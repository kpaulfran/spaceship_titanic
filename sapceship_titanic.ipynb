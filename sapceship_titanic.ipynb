{
  "nbformat": 4,
  "nbformat_minor": 0,
  "metadata": {
    "colab": {
      "provenance": [],
      "authorship_tag": "ABX9TyMOFmzJaHwjpJSHEckPp/Wl",
      "include_colab_link": true
    },
    "kernelspec": {
      "name": "python3",
      "display_name": "Python 3"
    },
    "language_info": {
      "name": "python"
    }
  },
  "cells": [
    {
      "cell_type": "markdown",
      "metadata": {
        "id": "view-in-github",
        "colab_type": "text"
      },
      "source": [
        "<a href=\"https://colab.research.google.com/github/kpaulfran/sapceship_titanic/blob/main/sapceship_titanic.ipynb\" target=\"_parent\"><img src=\"https://colab.research.google.com/assets/colab-badge.svg\" alt=\"Open In Colab\"/></a>"
      ]
    },
    {
      "cell_type": "code",
      "execution_count": 2,
      "metadata": {
        "id": "P9CDnr0S2d4h"
      },
      "outputs": [],
      "source": [
        "import pandas as pd\n",
        "import matplotlib.pyplot as plt\n",
        "import seaborn as sns\n",
        "from sklearn.preprocessing import StandardScaler, OneHotEncoder\n",
        "from sklearn.impute import SimpleImputer\n",
        "from sklearn.compose import make_column_transformer, make_column_selector\n",
        "from sklearn.pipeline import make_pipeline\n",
        "from sklearn.model_selection import train_test_split\n",
        "from sklearn import set_config\n",
        "import numpy as np\n",
        "set_config(display='diagram')"
      ]
    },
    {
      "cell_type": "code",
      "source": [
        "train = pd.read_csv('https://raw.githubusercontent.com/kpaulfran/sapceship_titanic/main/train.csv')\n",
        "test = pd.read_csv('https://raw.githubusercontent.com/kpaulfran/sapceship_titanic/main/test.csv')"
      ],
      "metadata": {
        "id": "NCCe2aLL3eVG"
      },
      "execution_count": 3,
      "outputs": []
    },
    {
      "cell_type": "code",
      "source": [
        "train.shape"
      ],
      "metadata": {
        "colab": {
          "base_uri": "https://localhost:8080/"
        },
        "id": "knravC8A4iR8",
        "outputId": "d0c45140-049c-44ed-dca8-939e463fc301"
      },
      "execution_count": 4,
      "outputs": [
        {
          "output_type": "execute_result",
          "data": {
            "text/plain": [
              "(8693, 14)"
            ]
          },
          "metadata": {},
          "execution_count": 4
        }
      ]
    },
    {
      "cell_type": "markdown",
      "source": [
        "1) Fuente de datos\n",
        "\n",
        "Kaggle: https://www.kaggle.com/competitions/spaceship-titanic/data?select=train.csv\n",
        "\n",
        "2) Breve descripción de datos\n",
        "\n",
        "set of personal records recovered from the ship's damaged computer system.\n",
        "\n",
        "3) ¿Cuál es el objetivo?\n",
        "\n",
        "Predict whether a passenger was transported to an alternate dimension during the Spaceship Titanic's collision with the spacetime anomaly. \n",
        "\n",
        "4) ¿Este es un problema de clasificación o regresión?\n",
        "\n",
        "classifier\n",
        "\n",
        "5) ¿Cuántas características hay?\n",
        "\n",
        "14\n",
        "\n",
        "6) ¿Cuántas filas de datos hay?\n",
        "\n",
        "8693\n",
        "\n",
        "7) ¿Qué retos, si es que hay alguno, prevén en la limpieza, exploración o modelización con este conjunto de datos?\n",
        "\n",
        "Habra que realizar imputaciones en ciertas variables ya que superan el 1% de datos missing"
      ],
      "metadata": {
        "id": "wZg1oJ3D3_0M"
      }
    },
    {
      "cell_type": "code",
      "source": [
        "train.info()"
      ],
      "metadata": {
        "colab": {
          "base_uri": "https://localhost:8080/"
        },
        "id": "AYt4OxaU3143",
        "outputId": "ce333784-2395-40d2-ea42-62dae78fffbb"
      },
      "execution_count": 5,
      "outputs": [
        {
          "output_type": "stream",
          "name": "stdout",
          "text": [
            "<class 'pandas.core.frame.DataFrame'>\n",
            "RangeIndex: 8693 entries, 0 to 8692\n",
            "Data columns (total 14 columns):\n",
            " #   Column        Non-Null Count  Dtype  \n",
            "---  ------        --------------  -----  \n",
            " 0   PassengerId   8693 non-null   object \n",
            " 1   HomePlanet    8492 non-null   object \n",
            " 2   CryoSleep     8476 non-null   object \n",
            " 3   Cabin         8494 non-null   object \n",
            " 4   Destination   8511 non-null   object \n",
            " 5   Age           8514 non-null   float64\n",
            " 6   VIP           8490 non-null   object \n",
            " 7   RoomService   8512 non-null   float64\n",
            " 8   FoodCourt     8510 non-null   float64\n",
            " 9   ShoppingMall  8485 non-null   float64\n",
            " 10  Spa           8510 non-null   float64\n",
            " 11  VRDeck        8505 non-null   float64\n",
            " 12  Name          8493 non-null   object \n",
            " 13  Transported   8693 non-null   bool   \n",
            "dtypes: bool(1), float64(6), object(7)\n",
            "memory usage: 891.5+ KB\n"
          ]
        }
      ]
    },
    {
      "cell_type": "code",
      "source": [
        "train.head(10)"
      ],
      "metadata": {
        "colab": {
          "base_uri": "https://localhost:8080/",
          "height": 363
        },
        "id": "ORfsALPEbXs7",
        "outputId": "6da9a0c2-c4c0-4767-cbc7-72f18418eb68"
      },
      "execution_count": 6,
      "outputs": [
        {
          "output_type": "execute_result",
          "data": {
            "text/plain": [
              "  PassengerId HomePlanet CryoSleep  Cabin    Destination   Age    VIP  \\\n",
              "0     0001_01     Europa     False  B/0/P    TRAPPIST-1e  39.0  False   \n",
              "1     0002_01      Earth     False  F/0/S    TRAPPIST-1e  24.0  False   \n",
              "2     0003_01     Europa     False  A/0/S    TRAPPIST-1e  58.0   True   \n",
              "3     0003_02     Europa     False  A/0/S    TRAPPIST-1e  33.0  False   \n",
              "4     0004_01      Earth     False  F/1/S    TRAPPIST-1e  16.0  False   \n",
              "5     0005_01      Earth     False  F/0/P  PSO J318.5-22  44.0  False   \n",
              "6     0006_01      Earth     False  F/2/S    TRAPPIST-1e  26.0  False   \n",
              "7     0006_02      Earth      True  G/0/S    TRAPPIST-1e  28.0  False   \n",
              "8     0007_01      Earth     False  F/3/S    TRAPPIST-1e  35.0  False   \n",
              "9     0008_01     Europa      True  B/1/P    55 Cancri e  14.0  False   \n",
              "\n",
              "   RoomService  FoodCourt  ShoppingMall     Spa  VRDeck                Name  \\\n",
              "0          0.0        0.0           0.0     0.0     0.0     Maham Ofracculy   \n",
              "1        109.0        9.0          25.0   549.0    44.0        Juanna Vines   \n",
              "2         43.0     3576.0           0.0  6715.0    49.0       Altark Susent   \n",
              "3          0.0     1283.0         371.0  3329.0   193.0        Solam Susent   \n",
              "4        303.0       70.0         151.0   565.0     2.0   Willy Santantines   \n",
              "5          0.0      483.0           0.0   291.0     0.0   Sandie Hinetthews   \n",
              "6         42.0     1539.0           3.0     0.0     0.0  Billex Jacostaffey   \n",
              "7          0.0        0.0           0.0     0.0     NaN  Candra Jacostaffey   \n",
              "8          0.0      785.0          17.0   216.0     0.0       Andona Beston   \n",
              "9          0.0        0.0           0.0     0.0     0.0      Erraiam Flatic   \n",
              "\n",
              "   Transported  \n",
              "0        False  \n",
              "1         True  \n",
              "2        False  \n",
              "3        False  \n",
              "4         True  \n",
              "5         True  \n",
              "6         True  \n",
              "7         True  \n",
              "8         True  \n",
              "9         True  "
            ],
            "text/html": [
              "\n",
              "  <div id=\"df-a61c7e4b-98b3-4b70-8491-39e62a5804e6\">\n",
              "    <div class=\"colab-df-container\">\n",
              "      <div>\n",
              "<style scoped>\n",
              "    .dataframe tbody tr th:only-of-type {\n",
              "        vertical-align: middle;\n",
              "    }\n",
              "\n",
              "    .dataframe tbody tr th {\n",
              "        vertical-align: top;\n",
              "    }\n",
              "\n",
              "    .dataframe thead th {\n",
              "        text-align: right;\n",
              "    }\n",
              "</style>\n",
              "<table border=\"1\" class=\"dataframe\">\n",
              "  <thead>\n",
              "    <tr style=\"text-align: right;\">\n",
              "      <th></th>\n",
              "      <th>PassengerId</th>\n",
              "      <th>HomePlanet</th>\n",
              "      <th>CryoSleep</th>\n",
              "      <th>Cabin</th>\n",
              "      <th>Destination</th>\n",
              "      <th>Age</th>\n",
              "      <th>VIP</th>\n",
              "      <th>RoomService</th>\n",
              "      <th>FoodCourt</th>\n",
              "      <th>ShoppingMall</th>\n",
              "      <th>Spa</th>\n",
              "      <th>VRDeck</th>\n",
              "      <th>Name</th>\n",
              "      <th>Transported</th>\n",
              "    </tr>\n",
              "  </thead>\n",
              "  <tbody>\n",
              "    <tr>\n",
              "      <th>0</th>\n",
              "      <td>0001_01</td>\n",
              "      <td>Europa</td>\n",
              "      <td>False</td>\n",
              "      <td>B/0/P</td>\n",
              "      <td>TRAPPIST-1e</td>\n",
              "      <td>39.0</td>\n",
              "      <td>False</td>\n",
              "      <td>0.0</td>\n",
              "      <td>0.0</td>\n",
              "      <td>0.0</td>\n",
              "      <td>0.0</td>\n",
              "      <td>0.0</td>\n",
              "      <td>Maham Ofracculy</td>\n",
              "      <td>False</td>\n",
              "    </tr>\n",
              "    <tr>\n",
              "      <th>1</th>\n",
              "      <td>0002_01</td>\n",
              "      <td>Earth</td>\n",
              "      <td>False</td>\n",
              "      <td>F/0/S</td>\n",
              "      <td>TRAPPIST-1e</td>\n",
              "      <td>24.0</td>\n",
              "      <td>False</td>\n",
              "      <td>109.0</td>\n",
              "      <td>9.0</td>\n",
              "      <td>25.0</td>\n",
              "      <td>549.0</td>\n",
              "      <td>44.0</td>\n",
              "      <td>Juanna Vines</td>\n",
              "      <td>True</td>\n",
              "    </tr>\n",
              "    <tr>\n",
              "      <th>2</th>\n",
              "      <td>0003_01</td>\n",
              "      <td>Europa</td>\n",
              "      <td>False</td>\n",
              "      <td>A/0/S</td>\n",
              "      <td>TRAPPIST-1e</td>\n",
              "      <td>58.0</td>\n",
              "      <td>True</td>\n",
              "      <td>43.0</td>\n",
              "      <td>3576.0</td>\n",
              "      <td>0.0</td>\n",
              "      <td>6715.0</td>\n",
              "      <td>49.0</td>\n",
              "      <td>Altark Susent</td>\n",
              "      <td>False</td>\n",
              "    </tr>\n",
              "    <tr>\n",
              "      <th>3</th>\n",
              "      <td>0003_02</td>\n",
              "      <td>Europa</td>\n",
              "      <td>False</td>\n",
              "      <td>A/0/S</td>\n",
              "      <td>TRAPPIST-1e</td>\n",
              "      <td>33.0</td>\n",
              "      <td>False</td>\n",
              "      <td>0.0</td>\n",
              "      <td>1283.0</td>\n",
              "      <td>371.0</td>\n",
              "      <td>3329.0</td>\n",
              "      <td>193.0</td>\n",
              "      <td>Solam Susent</td>\n",
              "      <td>False</td>\n",
              "    </tr>\n",
              "    <tr>\n",
              "      <th>4</th>\n",
              "      <td>0004_01</td>\n",
              "      <td>Earth</td>\n",
              "      <td>False</td>\n",
              "      <td>F/1/S</td>\n",
              "      <td>TRAPPIST-1e</td>\n",
              "      <td>16.0</td>\n",
              "      <td>False</td>\n",
              "      <td>303.0</td>\n",
              "      <td>70.0</td>\n",
              "      <td>151.0</td>\n",
              "      <td>565.0</td>\n",
              "      <td>2.0</td>\n",
              "      <td>Willy Santantines</td>\n",
              "      <td>True</td>\n",
              "    </tr>\n",
              "    <tr>\n",
              "      <th>5</th>\n",
              "      <td>0005_01</td>\n",
              "      <td>Earth</td>\n",
              "      <td>False</td>\n",
              "      <td>F/0/P</td>\n",
              "      <td>PSO J318.5-22</td>\n",
              "      <td>44.0</td>\n",
              "      <td>False</td>\n",
              "      <td>0.0</td>\n",
              "      <td>483.0</td>\n",
              "      <td>0.0</td>\n",
              "      <td>291.0</td>\n",
              "      <td>0.0</td>\n",
              "      <td>Sandie Hinetthews</td>\n",
              "      <td>True</td>\n",
              "    </tr>\n",
              "    <tr>\n",
              "      <th>6</th>\n",
              "      <td>0006_01</td>\n",
              "      <td>Earth</td>\n",
              "      <td>False</td>\n",
              "      <td>F/2/S</td>\n",
              "      <td>TRAPPIST-1e</td>\n",
              "      <td>26.0</td>\n",
              "      <td>False</td>\n",
              "      <td>42.0</td>\n",
              "      <td>1539.0</td>\n",
              "      <td>3.0</td>\n",
              "      <td>0.0</td>\n",
              "      <td>0.0</td>\n",
              "      <td>Billex Jacostaffey</td>\n",
              "      <td>True</td>\n",
              "    </tr>\n",
              "    <tr>\n",
              "      <th>7</th>\n",
              "      <td>0006_02</td>\n",
              "      <td>Earth</td>\n",
              "      <td>True</td>\n",
              "      <td>G/0/S</td>\n",
              "      <td>TRAPPIST-1e</td>\n",
              "      <td>28.0</td>\n",
              "      <td>False</td>\n",
              "      <td>0.0</td>\n",
              "      <td>0.0</td>\n",
              "      <td>0.0</td>\n",
              "      <td>0.0</td>\n",
              "      <td>NaN</td>\n",
              "      <td>Candra Jacostaffey</td>\n",
              "      <td>True</td>\n",
              "    </tr>\n",
              "    <tr>\n",
              "      <th>8</th>\n",
              "      <td>0007_01</td>\n",
              "      <td>Earth</td>\n",
              "      <td>False</td>\n",
              "      <td>F/3/S</td>\n",
              "      <td>TRAPPIST-1e</td>\n",
              "      <td>35.0</td>\n",
              "      <td>False</td>\n",
              "      <td>0.0</td>\n",
              "      <td>785.0</td>\n",
              "      <td>17.0</td>\n",
              "      <td>216.0</td>\n",
              "      <td>0.0</td>\n",
              "      <td>Andona Beston</td>\n",
              "      <td>True</td>\n",
              "    </tr>\n",
              "    <tr>\n",
              "      <th>9</th>\n",
              "      <td>0008_01</td>\n",
              "      <td>Europa</td>\n",
              "      <td>True</td>\n",
              "      <td>B/1/P</td>\n",
              "      <td>55 Cancri e</td>\n",
              "      <td>14.0</td>\n",
              "      <td>False</td>\n",
              "      <td>0.0</td>\n",
              "      <td>0.0</td>\n",
              "      <td>0.0</td>\n",
              "      <td>0.0</td>\n",
              "      <td>0.0</td>\n",
              "      <td>Erraiam Flatic</td>\n",
              "      <td>True</td>\n",
              "    </tr>\n",
              "  </tbody>\n",
              "</table>\n",
              "</div>\n",
              "      <button class=\"colab-df-convert\" onclick=\"convertToInteractive('df-a61c7e4b-98b3-4b70-8491-39e62a5804e6')\"\n",
              "              title=\"Convert this dataframe to an interactive table.\"\n",
              "              style=\"display:none;\">\n",
              "        \n",
              "  <svg xmlns=\"http://www.w3.org/2000/svg\" height=\"24px\"viewBox=\"0 0 24 24\"\n",
              "       width=\"24px\">\n",
              "    <path d=\"M0 0h24v24H0V0z\" fill=\"none\"/>\n",
              "    <path d=\"M18.56 5.44l.94 2.06.94-2.06 2.06-.94-2.06-.94-.94-2.06-.94 2.06-2.06.94zm-11 1L8.5 8.5l.94-2.06 2.06-.94-2.06-.94L8.5 2.5l-.94 2.06-2.06.94zm10 10l.94 2.06.94-2.06 2.06-.94-2.06-.94-.94-2.06-.94 2.06-2.06.94z\"/><path d=\"M17.41 7.96l-1.37-1.37c-.4-.4-.92-.59-1.43-.59-.52 0-1.04.2-1.43.59L10.3 9.45l-7.72 7.72c-.78.78-.78 2.05 0 2.83L4 21.41c.39.39.9.59 1.41.59.51 0 1.02-.2 1.41-.59l7.78-7.78 2.81-2.81c.8-.78.8-2.07 0-2.86zM5.41 20L4 18.59l7.72-7.72 1.47 1.35L5.41 20z\"/>\n",
              "  </svg>\n",
              "      </button>\n",
              "      \n",
              "  <style>\n",
              "    .colab-df-container {\n",
              "      display:flex;\n",
              "      flex-wrap:wrap;\n",
              "      gap: 12px;\n",
              "    }\n",
              "\n",
              "    .colab-df-convert {\n",
              "      background-color: #E8F0FE;\n",
              "      border: none;\n",
              "      border-radius: 50%;\n",
              "      cursor: pointer;\n",
              "      display: none;\n",
              "      fill: #1967D2;\n",
              "      height: 32px;\n",
              "      padding: 0 0 0 0;\n",
              "      width: 32px;\n",
              "    }\n",
              "\n",
              "    .colab-df-convert:hover {\n",
              "      background-color: #E2EBFA;\n",
              "      box-shadow: 0px 1px 2px rgba(60, 64, 67, 0.3), 0px 1px 3px 1px rgba(60, 64, 67, 0.15);\n",
              "      fill: #174EA6;\n",
              "    }\n",
              "\n",
              "    [theme=dark] .colab-df-convert {\n",
              "      background-color: #3B4455;\n",
              "      fill: #D2E3FC;\n",
              "    }\n",
              "\n",
              "    [theme=dark] .colab-df-convert:hover {\n",
              "      background-color: #434B5C;\n",
              "      box-shadow: 0px 1px 3px 1px rgba(0, 0, 0, 0.15);\n",
              "      filter: drop-shadow(0px 1px 2px rgba(0, 0, 0, 0.3));\n",
              "      fill: #FFFFFF;\n",
              "    }\n",
              "  </style>\n",
              "\n",
              "      <script>\n",
              "        const buttonEl =\n",
              "          document.querySelector('#df-a61c7e4b-98b3-4b70-8491-39e62a5804e6 button.colab-df-convert');\n",
              "        buttonEl.style.display =\n",
              "          google.colab.kernel.accessAllowed ? 'block' : 'none';\n",
              "\n",
              "        async function convertToInteractive(key) {\n",
              "          const element = document.querySelector('#df-a61c7e4b-98b3-4b70-8491-39e62a5804e6');\n",
              "          const dataTable =\n",
              "            await google.colab.kernel.invokeFunction('convertToInteractive',\n",
              "                                                     [key], {});\n",
              "          if (!dataTable) return;\n",
              "\n",
              "          const docLinkHtml = 'Like what you see? Visit the ' +\n",
              "            '<a target=\"_blank\" href=https://colab.research.google.com/notebooks/data_table.ipynb>data table notebook</a>'\n",
              "            + ' to learn more about interactive tables.';\n",
              "          element.innerHTML = '';\n",
              "          dataTable['output_type'] = 'display_data';\n",
              "          await google.colab.output.renderOutput(dataTable, element);\n",
              "          const docLink = document.createElement('div');\n",
              "          docLink.innerHTML = docLinkHtml;\n",
              "          element.appendChild(docLink);\n",
              "        }\n",
              "      </script>\n",
              "    </div>\n",
              "  </div>\n",
              "  "
            ]
          },
          "metadata": {},
          "execution_count": 6
        }
      ]
    },
    {
      "cell_type": "code",
      "source": [
        "#Exploración de datos por cada columna\n",
        "\n",
        "train['PassengerId'].unique() # Sera separa al final #Grupo/# de persona en el grupo para evaluar si influye al graficarlo"
      ],
      "metadata": {
        "colab": {
          "base_uri": "https://localhost:8080/"
        },
        "id": "HnQZhJA1i2Hx",
        "outputId": "754251b8-5d94-43c5-ca28-65bcdcced3af"
      },
      "execution_count": 7,
      "outputs": [
        {
          "output_type": "execute_result",
          "data": {
            "text/plain": [
              "array(['0001_01', '0002_01', '0003_01', ..., '9279_01', '9280_01',\n",
              "       '9280_02'], dtype=object)"
            ]
          },
          "metadata": {},
          "execution_count": 7
        }
      ]
    },
    {
      "cell_type": "code",
      "source": [
        "train['HomePlanet'].value_counts() #8492 datos / 201 datos na"
      ],
      "metadata": {
        "colab": {
          "base_uri": "https://localhost:8080/"
        },
        "id": "CE2ZbPofjWMs",
        "outputId": "7f590c7b-9500-4bcb-9c40-c6c224d02dfa"
      },
      "execution_count": 8,
      "outputs": [
        {
          "output_type": "execute_result",
          "data": {
            "text/plain": [
              "Earth     4602\n",
              "Europa    2131\n",
              "Mars      1759\n",
              "Name: HomePlanet, dtype: int64"
            ]
          },
          "metadata": {},
          "execution_count": 8
        }
      ]
    },
    {
      "cell_type": "code",
      "source": [
        "round(1-(train['HomePlanet'].value_counts().sum()/8693),2) #Los datos faltantes son menor al 1% por lo que estas filas seran eliminadas para este caso"
      ],
      "metadata": {
        "colab": {
          "base_uri": "https://localhost:8080/"
        },
        "id": "h3H9sfuqkgkY",
        "outputId": "75aca691-67bc-4fd2-8586-9a2b0f856d74"
      },
      "execution_count": 9,
      "outputs": [
        {
          "output_type": "execute_result",
          "data": {
            "text/plain": [
              "0.02"
            ]
          },
          "metadata": {},
          "execution_count": 9
        }
      ]
    },
    {
      "cell_type": "code",
      "source": [
        "train.dropna(subset=['HomePlanet'], inplace=True)\n",
        "train.shape"
      ],
      "metadata": {
        "colab": {
          "base_uri": "https://localhost:8080/"
        },
        "id": "nsGVc6Xxk5NT",
        "outputId": "bdf5c9b0-9609-449d-b1f0-4d8e17b28872"
      },
      "execution_count": 10,
      "outputs": [
        {
          "output_type": "execute_result",
          "data": {
            "text/plain": [
              "(8492, 14)"
            ]
          },
          "metadata": {},
          "execution_count": 10
        }
      ]
    },
    {
      "cell_type": "code",
      "source": [
        "train['CryoSleep'].value_counts().sum()/8492 #Luego se va a realizar la imputacion de estos datos utilizando el metodo 'most_frequent', se elige imputar por que ya hemos eliminado parte de nuestros datos"
      ],
      "metadata": {
        "colab": {
          "base_uri": "https://localhost:8080/"
        },
        "id": "fAKHcqNNl0Oj",
        "outputId": "25a456bf-62a0-492b-940a-ec2252c49749"
      },
      "execution_count": 11,
      "outputs": [
        {
          "output_type": "execute_result",
          "data": {
            "text/plain": [
              "0.9746820536975978"
            ]
          },
          "metadata": {},
          "execution_count": 11
        }
      ]
    },
    {
      "cell_type": "markdown",
      "source": [],
      "metadata": {
        "id": "1dGFWzQQphV4"
      }
    },
    {
      "cell_type": "code",
      "source": [
        "train['Cabin'].unique() #Será separada al final, para luego graficarlo"
      ],
      "metadata": {
        "colab": {
          "base_uri": "https://localhost:8080/"
        },
        "id": "0xjLFuJlmn81",
        "outputId": "adc7ddb7-cb32-4b5f-af67-7b4a5df9eeb8"
      },
      "execution_count": 12,
      "outputs": [
        {
          "output_type": "execute_result",
          "data": {
            "text/plain": [
              "array(['B/0/P', 'F/0/S', 'A/0/S', ..., 'G/1499/S', 'G/1500/S', 'E/608/S'],\n",
              "      dtype=object)"
            ]
          },
          "metadata": {},
          "execution_count": 12
        }
      ]
    },
    {
      "cell_type": "code",
      "source": [
        "train['Destination'].unique()"
      ],
      "metadata": {
        "colab": {
          "base_uri": "https://localhost:8080/"
        },
        "id": "0HPITB_goVbS",
        "outputId": "d9c3ffed-c181-49c1-ca38-12310e341855"
      },
      "execution_count": 13,
      "outputs": [
        {
          "output_type": "execute_result",
          "data": {
            "text/plain": [
              "array(['TRAPPIST-1e', 'PSO J318.5-22', '55 Cancri e', nan], dtype=object)"
            ]
          },
          "metadata": {},
          "execution_count": 13
        }
      ]
    },
    {
      "cell_type": "code",
      "source": [
        "train['Destination'].value_counts()"
      ],
      "metadata": {
        "colab": {
          "base_uri": "https://localhost:8080/"
        },
        "id": "_by2Xo-XpSzL",
        "outputId": "96a40462-78ab-40bc-9a4c-112abc2c9ed6"
      },
      "execution_count": 14,
      "outputs": [
        {
          "output_type": "execute_result",
          "data": {
            "text/plain": [
              "TRAPPIST-1e      5765\n",
              "55 Cancri e      1769\n",
              "PSO J318.5-22     780\n",
              "Name: Destination, dtype: int64"
            ]
          },
          "metadata": {},
          "execution_count": 14
        }
      ]
    },
    {
      "cell_type": "code",
      "source": [
        "train['Destination'].isna().sum()/train['Destination'].value_counts().sum() #Luego se va a realizar la imputacion de estos datos utilizando el metodo 'most_frequent', se elige imputar por que ya hemos eliminado parte de nuestros datos"
      ],
      "metadata": {
        "colab": {
          "base_uri": "https://localhost:8080/"
        },
        "id": "jxAz3U_upL9B",
        "outputId": "19b1870b-e95d-4cb7-f6ed-c058a11fed30"
      },
      "execution_count": 15,
      "outputs": [
        {
          "output_type": "execute_result",
          "data": {
            "text/plain": [
              "0.02140967043541015"
            ]
          },
          "metadata": {},
          "execution_count": 15
        }
      ]
    },
    {
      "cell_type": "code",
      "source": [
        "train['Age'].describe()"
      ],
      "metadata": {
        "colab": {
          "base_uri": "https://localhost:8080/"
        },
        "id": "MBdfM9PKpkXu",
        "outputId": "3c5bde5f-c3e8-4318-e0db-a523697015be"
      },
      "execution_count": 16,
      "outputs": [
        {
          "output_type": "execute_result",
          "data": {
            "text/plain": [
              "count    8315.000000\n",
              "mean       28.828743\n",
              "std        14.490024\n",
              "min         0.000000\n",
              "25%        19.000000\n",
              "50%        27.000000\n",
              "75%        38.000000\n",
              "max        79.000000\n",
              "Name: Age, dtype: float64"
            ]
          },
          "metadata": {},
          "execution_count": 16
        }
      ]
    },
    {
      "cell_type": "code",
      "source": [
        "train['Age'].isna().sum()  #Luego se va a realizar la imputacion de estos datos utilizando el metodo 'mean'"
      ],
      "metadata": {
        "colab": {
          "base_uri": "https://localhost:8080/"
        },
        "id": "Vw252G6lptoC",
        "outputId": "23a2dc01-9028-4157-f74c-df2479c441d5"
      },
      "execution_count": 17,
      "outputs": [
        {
          "output_type": "execute_result",
          "data": {
            "text/plain": [
              "177"
            ]
          },
          "metadata": {},
          "execution_count": 17
        }
      ]
    },
    {
      "cell_type": "code",
      "source": [
        "train['VIP'].isna().sum()  #Luego se va a realizar la imputacion de estos datos utilizando el metodo 'most_frequent', se elige imputar por que ya hemos eliminado parte de nuestros datos"
      ],
      "metadata": {
        "colab": {
          "base_uri": "https://localhost:8080/"
        },
        "id": "KDh3_FE-p45k",
        "outputId": "458b3ae9-7da8-41f9-ccee-13e984ad6c81"
      },
      "execution_count": 18,
      "outputs": [
        {
          "output_type": "execute_result",
          "data": {
            "text/plain": [
              "200"
            ]
          },
          "metadata": {},
          "execution_count": 18
        }
      ]
    },
    {
      "cell_type": "code",
      "source": [
        "train['VIP'].value_counts()"
      ],
      "metadata": {
        "colab": {
          "base_uri": "https://localhost:8080/"
        },
        "id": "DmftvUgCqGAQ",
        "outputId": "b37e7ccf-203e-43e7-cccb-a8153be90c27"
      },
      "execution_count": 19,
      "outputs": [
        {
          "output_type": "execute_result",
          "data": {
            "text/plain": [
              "False    8098\n",
              "True      194\n",
              "Name: VIP, dtype: int64"
            ]
          },
          "metadata": {},
          "execution_count": 19
        }
      ]
    },
    {
      "cell_type": "code",
      "source": [
        "#Columnas de gastos en el spaceship seran sumadas 'total_billed'"
      ],
      "metadata": {
        "id": "DsKwx-mPqWhC"
      },
      "execution_count": 20,
      "outputs": []
    },
    {
      "cell_type": "code",
      "source": [
        "#Eliminaremos Name para este análisis\n",
        "\n",
        "train.drop(columns=['Name'], inplace = True)"
      ],
      "metadata": {
        "id": "QJO8JGA8q9BI"
      },
      "execution_count": 21,
      "outputs": []
    },
    {
      "cell_type": "code",
      "source": [
        "train['Transported'].isna().sum() #Datos completos en columna objetivo"
      ],
      "metadata": {
        "colab": {
          "base_uri": "https://localhost:8080/"
        },
        "id": "mrqKdUyvrfVg",
        "outputId": "dce2c1c1-6a5c-472f-c594-920948a3e76c"
      },
      "execution_count": 22,
      "outputs": [
        {
          "output_type": "execute_result",
          "data": {
            "text/plain": [
              "0"
            ]
          },
          "metadata": {},
          "execution_count": 22
        }
      ]
    },
    {
      "cell_type": "code",
      "source": [
        "train['Transported'].value_counts() #Datos balanceados para una correcta clasificacion"
      ],
      "metadata": {
        "colab": {
          "base_uri": "https://localhost:8080/"
        },
        "id": "JHCZyzr0rx0F",
        "outputId": "f809ea90-1d92-42b9-df39-f1ee84d5fa10"
      },
      "execution_count": 23,
      "outputs": [
        {
          "output_type": "execute_result",
          "data": {
            "text/plain": [
              "True     4275\n",
              "False    4217\n",
              "Name: Transported, dtype: int64"
            ]
          },
          "metadata": {},
          "execution_count": 23
        }
      ]
    },
    {
      "cell_type": "code",
      "source": [
        "#Segunda fase de la exploración y limpieza:\n",
        "\n",
        "#Separar datos de las columnas 'PassengerID' y 'Cabin'\n",
        "\n",
        "train['GroupId'] = train['PassengerId'].str.slice(stop = 4)\n",
        "train['GroupId']"
      ],
      "metadata": {
        "colab": {
          "base_uri": "https://localhost:8080/"
        },
        "id": "2AJaYdjHr6pe",
        "outputId": "ac53ae00-f109-4e8e-d42e-fe9cd12b6425"
      },
      "execution_count": 24,
      "outputs": [
        {
          "output_type": "execute_result",
          "data": {
            "text/plain": [
              "0       0001\n",
              "1       0002\n",
              "2       0003\n",
              "3       0003\n",
              "4       0004\n",
              "        ... \n",
              "8688    9276\n",
              "8689    9278\n",
              "8690    9279\n",
              "8691    9280\n",
              "8692    9280\n",
              "Name: GroupId, Length: 8492, dtype: object"
            ]
          },
          "metadata": {},
          "execution_count": 24
        }
      ]
    },
    {
      "cell_type": "code",
      "source": [
        "train['PersonNumber'] = train['PassengerId'].str.slice(start = 5)\n",
        "train.drop(columns=['PassengerId'],inplace=True)\n",
        "train['PersonNumber']"
      ],
      "metadata": {
        "colab": {
          "base_uri": "https://localhost:8080/"
        },
        "id": "iduxo-3Lu2Zf",
        "outputId": "414e8414-8c9a-4dac-f876-52106e58a39a"
      },
      "execution_count": 25,
      "outputs": [
        {
          "output_type": "execute_result",
          "data": {
            "text/plain": [
              "0       01\n",
              "1       01\n",
              "2       01\n",
              "3       02\n",
              "4       01\n",
              "        ..\n",
              "8688    01\n",
              "8689    01\n",
              "8690    01\n",
              "8691    01\n",
              "8692    02\n",
              "Name: PersonNumber, Length: 8492, dtype: object"
            ]
          },
          "metadata": {},
          "execution_count": 25
        }
      ]
    },
    {
      "cell_type": "code",
      "source": [
        "#Cabin = [deck,num,side]\n",
        "\n",
        "train[['deck','num','side']] = train['Cabin'].str.split('/', expand = True)\n",
        "train.drop(columns=['Cabin'],inplace=True)\n",
        "\n",
        "train['side']"
      ],
      "metadata": {
        "id": "lqeauRohvqNQ",
        "outputId": "9e9c7ffe-75b3-4d28-c0e4-0249fef9b58b",
        "colab": {
          "base_uri": "https://localhost:8080/"
        }
      },
      "execution_count": 26,
      "outputs": [
        {
          "output_type": "execute_result",
          "data": {
            "text/plain": [
              "0       P\n",
              "1       S\n",
              "2       S\n",
              "3       S\n",
              "4       S\n",
              "       ..\n",
              "8688    P\n",
              "8689    S\n",
              "8690    S\n",
              "8691    S\n",
              "8692    S\n",
              "Name: side, Length: 8492, dtype: object"
            ]
          },
          "metadata": {},
          "execution_count": 26
        }
      ]
    },
    {
      "cell_type": "code",
      "source": [
        "#Crearemos la columna total_billed y eliminaremos las columnas utilizadas.\n",
        "\n",
        "#sums=df.sum(axis=1)\n",
        "\n",
        "train['total_billed'] = train[['RoomService','FoodCourt','ShoppingMall','Spa','VRDeck']].sum(axis=1)\n",
        "train.drop(columns=['RoomService','FoodCourt','ShoppingMall','Spa','VRDeck'],inplace=True)\n",
        "train.info()"
      ],
      "metadata": {
        "id": "8MntS1K4xYmC",
        "outputId": "481fe4bf-0b01-4f58-8fdd-175a9bbe20fe",
        "colab": {
          "base_uri": "https://localhost:8080/"
        }
      },
      "execution_count": 27,
      "outputs": [
        {
          "output_type": "stream",
          "name": "stdout",
          "text": [
            "<class 'pandas.core.frame.DataFrame'>\n",
            "Int64Index: 8492 entries, 0 to 8692\n",
            "Data columns (total 12 columns):\n",
            " #   Column        Non-Null Count  Dtype  \n",
            "---  ------        --------------  -----  \n",
            " 0   HomePlanet    8492 non-null   object \n",
            " 1   CryoSleep     8277 non-null   object \n",
            " 2   Destination   8314 non-null   object \n",
            " 3   Age           8315 non-null   float64\n",
            " 4   VIP           8292 non-null   object \n",
            " 5   Transported   8492 non-null   bool   \n",
            " 6   GroupId       8492 non-null   object \n",
            " 7   PersonNumber  8492 non-null   object \n",
            " 8   deck          8299 non-null   object \n",
            " 9   num           8299 non-null   object \n",
            " 10  side          8299 non-null   object \n",
            " 11  total_billed  8492 non-null   float64\n",
            "dtypes: bool(1), float64(2), object(9)\n",
            "memory usage: 804.4+ KB\n"
          ]
        }
      ]
    },
    {
      "cell_type": "code",
      "source": [
        "train.shape"
      ],
      "metadata": {
        "id": "EyjDFvbszeqO",
        "outputId": "3989a77a-7b42-415a-b97f-500c472cec8e",
        "colab": {
          "base_uri": "https://localhost:8080/"
        }
      },
      "execution_count": 28,
      "outputs": [
        {
          "output_type": "execute_result",
          "data": {
            "text/plain": [
              "(8492, 12)"
            ]
          },
          "metadata": {},
          "execution_count": 28
        }
      ]
    },
    {
      "cell_type": "code",
      "source": [
        "#Analizaremos las nuevas columnas\n",
        "\n",
        "train['GroupId'].value_counts() #No se observan tendencias"
      ],
      "metadata": {
        "id": "uC1KQJY207Th",
        "outputId": "6147d9ac-f338-4bee-d541-7f168c34067f",
        "colab": {
          "base_uri": "https://localhost:8080/"
        }
      },
      "execution_count": 29,
      "outputs": [
        {
          "output_type": "execute_result",
          "data": {
            "text/plain": [
              "9081    8\n",
              "8796    8\n",
              "8728    8\n",
              "5885    8\n",
              "4256    8\n",
              "       ..\n",
              "3465    1\n",
              "3462    1\n",
              "3461    1\n",
              "3459    1\n",
              "4622    1\n",
              "Name: GroupId, Length: 6107, dtype: int64"
            ]
          },
          "metadata": {},
          "execution_count": 29
        }
      ]
    },
    {
      "cell_type": "code",
      "source": [
        "#Analisis\n",
        "true_filter = train['Transported'] == True \n",
        "train_grouped = train.loc[true_filter, :]\n",
        "train_grouped = train.groupby(by=['GroupId']).count()\n",
        "train_grouped[['Transported','VIP']].sort_values(by = ['Transported'],ascending=False)[:10] #Se observa una fuerte tendencia a que los pasajeron VIP sean los que sean transportados, por lo que utilizaremos esta información sobre el GroupId y el numero de persona en el grupo"
      ],
      "metadata": {
        "id": "J61Qxl5s2yzy",
        "outputId": "6f114aab-c184-412d-d2c5-9b1eef86a64e",
        "colab": {
          "base_uri": "https://localhost:8080/",
          "height": 394
        }
      },
      "execution_count": 30,
      "outputs": [
        {
          "output_type": "execute_result",
          "data": {
            "text/plain": [
              "         Transported  VIP\n",
              "GroupId                  \n",
              "9081               8    7\n",
              "8796               8    8\n",
              "8728               8    8\n",
              "5885               8    7\n",
              "4256               8    8\n",
              "8988               8    8\n",
              "4005               8    8\n",
              "5133               8    8\n",
              "0984               8    8\n",
              "8168               8    8"
            ],
            "text/html": [
              "\n",
              "  <div id=\"df-1dcedcb4-cdb1-4bdb-abc2-29385fa1861f\">\n",
              "    <div class=\"colab-df-container\">\n",
              "      <div>\n",
              "<style scoped>\n",
              "    .dataframe tbody tr th:only-of-type {\n",
              "        vertical-align: middle;\n",
              "    }\n",
              "\n",
              "    .dataframe tbody tr th {\n",
              "        vertical-align: top;\n",
              "    }\n",
              "\n",
              "    .dataframe thead th {\n",
              "        text-align: right;\n",
              "    }\n",
              "</style>\n",
              "<table border=\"1\" class=\"dataframe\">\n",
              "  <thead>\n",
              "    <tr style=\"text-align: right;\">\n",
              "      <th></th>\n",
              "      <th>Transported</th>\n",
              "      <th>VIP</th>\n",
              "    </tr>\n",
              "    <tr>\n",
              "      <th>GroupId</th>\n",
              "      <th></th>\n",
              "      <th></th>\n",
              "    </tr>\n",
              "  </thead>\n",
              "  <tbody>\n",
              "    <tr>\n",
              "      <th>9081</th>\n",
              "      <td>8</td>\n",
              "      <td>7</td>\n",
              "    </tr>\n",
              "    <tr>\n",
              "      <th>8796</th>\n",
              "      <td>8</td>\n",
              "      <td>8</td>\n",
              "    </tr>\n",
              "    <tr>\n",
              "      <th>8728</th>\n",
              "      <td>8</td>\n",
              "      <td>8</td>\n",
              "    </tr>\n",
              "    <tr>\n",
              "      <th>5885</th>\n",
              "      <td>8</td>\n",
              "      <td>7</td>\n",
              "    </tr>\n",
              "    <tr>\n",
              "      <th>4256</th>\n",
              "      <td>8</td>\n",
              "      <td>8</td>\n",
              "    </tr>\n",
              "    <tr>\n",
              "      <th>8988</th>\n",
              "      <td>8</td>\n",
              "      <td>8</td>\n",
              "    </tr>\n",
              "    <tr>\n",
              "      <th>4005</th>\n",
              "      <td>8</td>\n",
              "      <td>8</td>\n",
              "    </tr>\n",
              "    <tr>\n",
              "      <th>5133</th>\n",
              "      <td>8</td>\n",
              "      <td>8</td>\n",
              "    </tr>\n",
              "    <tr>\n",
              "      <th>0984</th>\n",
              "      <td>8</td>\n",
              "      <td>8</td>\n",
              "    </tr>\n",
              "    <tr>\n",
              "      <th>8168</th>\n",
              "      <td>8</td>\n",
              "      <td>8</td>\n",
              "    </tr>\n",
              "  </tbody>\n",
              "</table>\n",
              "</div>\n",
              "      <button class=\"colab-df-convert\" onclick=\"convertToInteractive('df-1dcedcb4-cdb1-4bdb-abc2-29385fa1861f')\"\n",
              "              title=\"Convert this dataframe to an interactive table.\"\n",
              "              style=\"display:none;\">\n",
              "        \n",
              "  <svg xmlns=\"http://www.w3.org/2000/svg\" height=\"24px\"viewBox=\"0 0 24 24\"\n",
              "       width=\"24px\">\n",
              "    <path d=\"M0 0h24v24H0V0z\" fill=\"none\"/>\n",
              "    <path d=\"M18.56 5.44l.94 2.06.94-2.06 2.06-.94-2.06-.94-.94-2.06-.94 2.06-2.06.94zm-11 1L8.5 8.5l.94-2.06 2.06-.94-2.06-.94L8.5 2.5l-.94 2.06-2.06.94zm10 10l.94 2.06.94-2.06 2.06-.94-2.06-.94-.94-2.06-.94 2.06-2.06.94z\"/><path d=\"M17.41 7.96l-1.37-1.37c-.4-.4-.92-.59-1.43-.59-.52 0-1.04.2-1.43.59L10.3 9.45l-7.72 7.72c-.78.78-.78 2.05 0 2.83L4 21.41c.39.39.9.59 1.41.59.51 0 1.02-.2 1.41-.59l7.78-7.78 2.81-2.81c.8-.78.8-2.07 0-2.86zM5.41 20L4 18.59l7.72-7.72 1.47 1.35L5.41 20z\"/>\n",
              "  </svg>\n",
              "      </button>\n",
              "      \n",
              "  <style>\n",
              "    .colab-df-container {\n",
              "      display:flex;\n",
              "      flex-wrap:wrap;\n",
              "      gap: 12px;\n",
              "    }\n",
              "\n",
              "    .colab-df-convert {\n",
              "      background-color: #E8F0FE;\n",
              "      border: none;\n",
              "      border-radius: 50%;\n",
              "      cursor: pointer;\n",
              "      display: none;\n",
              "      fill: #1967D2;\n",
              "      height: 32px;\n",
              "      padding: 0 0 0 0;\n",
              "      width: 32px;\n",
              "    }\n",
              "\n",
              "    .colab-df-convert:hover {\n",
              "      background-color: #E2EBFA;\n",
              "      box-shadow: 0px 1px 2px rgba(60, 64, 67, 0.3), 0px 1px 3px 1px rgba(60, 64, 67, 0.15);\n",
              "      fill: #174EA6;\n",
              "    }\n",
              "\n",
              "    [theme=dark] .colab-df-convert {\n",
              "      background-color: #3B4455;\n",
              "      fill: #D2E3FC;\n",
              "    }\n",
              "\n",
              "    [theme=dark] .colab-df-convert:hover {\n",
              "      background-color: #434B5C;\n",
              "      box-shadow: 0px 1px 3px 1px rgba(0, 0, 0, 0.15);\n",
              "      filter: drop-shadow(0px 1px 2px rgba(0, 0, 0, 0.3));\n",
              "      fill: #FFFFFF;\n",
              "    }\n",
              "  </style>\n",
              "\n",
              "      <script>\n",
              "        const buttonEl =\n",
              "          document.querySelector('#df-1dcedcb4-cdb1-4bdb-abc2-29385fa1861f button.colab-df-convert');\n",
              "        buttonEl.style.display =\n",
              "          google.colab.kernel.accessAllowed ? 'block' : 'none';\n",
              "\n",
              "        async function convertToInteractive(key) {\n",
              "          const element = document.querySelector('#df-1dcedcb4-cdb1-4bdb-abc2-29385fa1861f');\n",
              "          const dataTable =\n",
              "            await google.colab.kernel.invokeFunction('convertToInteractive',\n",
              "                                                     [key], {});\n",
              "          if (!dataTable) return;\n",
              "\n",
              "          const docLinkHtml = 'Like what you see? Visit the ' +\n",
              "            '<a target=\"_blank\" href=https://colab.research.google.com/notebooks/data_table.ipynb>data table notebook</a>'\n",
              "            + ' to learn more about interactive tables.';\n",
              "          element.innerHTML = '';\n",
              "          dataTable['output_type'] = 'display_data';\n",
              "          await google.colab.output.renderOutput(dataTable, element);\n",
              "          const docLink = document.createElement('div');\n",
              "          docLink.innerHTML = docLinkHtml;\n",
              "          element.appendChild(docLink);\n",
              "        }\n",
              "      </script>\n",
              "    </div>\n",
              "  </div>\n",
              "  "
            ]
          },
          "metadata": {},
          "execution_count": 30
        }
      ]
    },
    {
      "cell_type": "code",
      "source": [
        "train.drop(columns=['GroupId', 'PersonNumber'], inplace = True)"
      ],
      "metadata": {
        "id": "8zDPBIdLBc50"
      },
      "execution_count": 31,
      "outputs": []
    },
    {
      "cell_type": "code",
      "source": [
        "#Analisis de columnas deck, num, side\n",
        "\n",
        "true_filter = train['Transported'] == True \n",
        "train_grouped = train.loc[true_filter, :]\n",
        "train_grouped = train.groupby(by=['deck']).count()\n",
        "train_grouped[['Transported','VIP']].sort_values(by = ['Transported'],ascending=False)[:10] #Se va a mantener por que se observa una correlacion entre el deck y los que son transportados"
      ],
      "metadata": {
        "id": "ZhX7cjxEBhAh",
        "outputId": "fa749c57-484a-4c8d-ce59-10efbe2c8b1e",
        "colab": {
          "base_uri": "https://localhost:8080/",
          "height": 331
        }
      },
      "execution_count": 32,
      "outputs": [
        {
          "output_type": "execute_result",
          "data": {
            "text/plain": [
              "      Transported   VIP\n",
              "deck                   \n",
              "F            2724  2656\n",
              "G            2498  2433\n",
              "E             853   838\n",
              "B             766   754\n",
              "C             734   715\n",
              "D             468   459\n",
              "A             252   246\n",
              "T               4     4"
            ],
            "text/html": [
              "\n",
              "  <div id=\"df-7ed03429-950d-4332-89b0-5fdb0ef547de\">\n",
              "    <div class=\"colab-df-container\">\n",
              "      <div>\n",
              "<style scoped>\n",
              "    .dataframe tbody tr th:only-of-type {\n",
              "        vertical-align: middle;\n",
              "    }\n",
              "\n",
              "    .dataframe tbody tr th {\n",
              "        vertical-align: top;\n",
              "    }\n",
              "\n",
              "    .dataframe thead th {\n",
              "        text-align: right;\n",
              "    }\n",
              "</style>\n",
              "<table border=\"1\" class=\"dataframe\">\n",
              "  <thead>\n",
              "    <tr style=\"text-align: right;\">\n",
              "      <th></th>\n",
              "      <th>Transported</th>\n",
              "      <th>VIP</th>\n",
              "    </tr>\n",
              "    <tr>\n",
              "      <th>deck</th>\n",
              "      <th></th>\n",
              "      <th></th>\n",
              "    </tr>\n",
              "  </thead>\n",
              "  <tbody>\n",
              "    <tr>\n",
              "      <th>F</th>\n",
              "      <td>2724</td>\n",
              "      <td>2656</td>\n",
              "    </tr>\n",
              "    <tr>\n",
              "      <th>G</th>\n",
              "      <td>2498</td>\n",
              "      <td>2433</td>\n",
              "    </tr>\n",
              "    <tr>\n",
              "      <th>E</th>\n",
              "      <td>853</td>\n",
              "      <td>838</td>\n",
              "    </tr>\n",
              "    <tr>\n",
              "      <th>B</th>\n",
              "      <td>766</td>\n",
              "      <td>754</td>\n",
              "    </tr>\n",
              "    <tr>\n",
              "      <th>C</th>\n",
              "      <td>734</td>\n",
              "      <td>715</td>\n",
              "    </tr>\n",
              "    <tr>\n",
              "      <th>D</th>\n",
              "      <td>468</td>\n",
              "      <td>459</td>\n",
              "    </tr>\n",
              "    <tr>\n",
              "      <th>A</th>\n",
              "      <td>252</td>\n",
              "      <td>246</td>\n",
              "    </tr>\n",
              "    <tr>\n",
              "      <th>T</th>\n",
              "      <td>4</td>\n",
              "      <td>4</td>\n",
              "    </tr>\n",
              "  </tbody>\n",
              "</table>\n",
              "</div>\n",
              "      <button class=\"colab-df-convert\" onclick=\"convertToInteractive('df-7ed03429-950d-4332-89b0-5fdb0ef547de')\"\n",
              "              title=\"Convert this dataframe to an interactive table.\"\n",
              "              style=\"display:none;\">\n",
              "        \n",
              "  <svg xmlns=\"http://www.w3.org/2000/svg\" height=\"24px\"viewBox=\"0 0 24 24\"\n",
              "       width=\"24px\">\n",
              "    <path d=\"M0 0h24v24H0V0z\" fill=\"none\"/>\n",
              "    <path d=\"M18.56 5.44l.94 2.06.94-2.06 2.06-.94-2.06-.94-.94-2.06-.94 2.06-2.06.94zm-11 1L8.5 8.5l.94-2.06 2.06-.94-2.06-.94L8.5 2.5l-.94 2.06-2.06.94zm10 10l.94 2.06.94-2.06 2.06-.94-2.06-.94-.94-2.06-.94 2.06-2.06.94z\"/><path d=\"M17.41 7.96l-1.37-1.37c-.4-.4-.92-.59-1.43-.59-.52 0-1.04.2-1.43.59L10.3 9.45l-7.72 7.72c-.78.78-.78 2.05 0 2.83L4 21.41c.39.39.9.59 1.41.59.51 0 1.02-.2 1.41-.59l7.78-7.78 2.81-2.81c.8-.78.8-2.07 0-2.86zM5.41 20L4 18.59l7.72-7.72 1.47 1.35L5.41 20z\"/>\n",
              "  </svg>\n",
              "      </button>\n",
              "      \n",
              "  <style>\n",
              "    .colab-df-container {\n",
              "      display:flex;\n",
              "      flex-wrap:wrap;\n",
              "      gap: 12px;\n",
              "    }\n",
              "\n",
              "    .colab-df-convert {\n",
              "      background-color: #E8F0FE;\n",
              "      border: none;\n",
              "      border-radius: 50%;\n",
              "      cursor: pointer;\n",
              "      display: none;\n",
              "      fill: #1967D2;\n",
              "      height: 32px;\n",
              "      padding: 0 0 0 0;\n",
              "      width: 32px;\n",
              "    }\n",
              "\n",
              "    .colab-df-convert:hover {\n",
              "      background-color: #E2EBFA;\n",
              "      box-shadow: 0px 1px 2px rgba(60, 64, 67, 0.3), 0px 1px 3px 1px rgba(60, 64, 67, 0.15);\n",
              "      fill: #174EA6;\n",
              "    }\n",
              "\n",
              "    [theme=dark] .colab-df-convert {\n",
              "      background-color: #3B4455;\n",
              "      fill: #D2E3FC;\n",
              "    }\n",
              "\n",
              "    [theme=dark] .colab-df-convert:hover {\n",
              "      background-color: #434B5C;\n",
              "      box-shadow: 0px 1px 3px 1px rgba(0, 0, 0, 0.15);\n",
              "      filter: drop-shadow(0px 1px 2px rgba(0, 0, 0, 0.3));\n",
              "      fill: #FFFFFF;\n",
              "    }\n",
              "  </style>\n",
              "\n",
              "      <script>\n",
              "        const buttonEl =\n",
              "          document.querySelector('#df-7ed03429-950d-4332-89b0-5fdb0ef547de button.colab-df-convert');\n",
              "        buttonEl.style.display =\n",
              "          google.colab.kernel.accessAllowed ? 'block' : 'none';\n",
              "\n",
              "        async function convertToInteractive(key) {\n",
              "          const element = document.querySelector('#df-7ed03429-950d-4332-89b0-5fdb0ef547de');\n",
              "          const dataTable =\n",
              "            await google.colab.kernel.invokeFunction('convertToInteractive',\n",
              "                                                     [key], {});\n",
              "          if (!dataTable) return;\n",
              "\n",
              "          const docLinkHtml = 'Like what you see? Visit the ' +\n",
              "            '<a target=\"_blank\" href=https://colab.research.google.com/notebooks/data_table.ipynb>data table notebook</a>'\n",
              "            + ' to learn more about interactive tables.';\n",
              "          element.innerHTML = '';\n",
              "          dataTable['output_type'] = 'display_data';\n",
              "          await google.colab.output.renderOutput(dataTable, element);\n",
              "          const docLink = document.createElement('div');\n",
              "          docLink.innerHTML = docLinkHtml;\n",
              "          element.appendChild(docLink);\n",
              "        }\n",
              "      </script>\n",
              "    </div>\n",
              "  </div>\n",
              "  "
            ]
          },
          "metadata": {},
          "execution_count": 32
        }
      ]
    },
    {
      "cell_type": "code",
      "source": [
        "true_filter = train['Transported'] == True \n",
        "train_grouped = train.loc[true_filter, :]\n",
        "train_grouped = train.groupby(by=['num']).count()\n",
        "train_grouped[['Transported','VIP']].sort_values(by = ['Transported'],ascending=False)[:10] #la variacion entre transportadl y VIP por num es minima, no lo utilizaremos"
      ],
      "metadata": {
        "id": "ooroCm8mjUDw",
        "outputId": "537a48de-ab83-4554-e5e6-192f801f2faf",
        "colab": {
          "base_uri": "https://localhost:8080/",
          "height": 394
        }
      },
      "execution_count": 33,
      "outputs": [
        {
          "output_type": "execute_result",
          "data": {
            "text/plain": [
              "     Transported  VIP\n",
              "num                  \n",
              "82            28   27\n",
              "97            21   20\n",
              "176           21   21\n",
              "86            20   19\n",
              "19            20   19\n",
              "56            20   20\n",
              "230           20   20\n",
              "65            19   19\n",
              "123           19   18\n",
              "269           19   18"
            ],
            "text/html": [
              "\n",
              "  <div id=\"df-42ecd69f-963f-42a8-84b6-e09705081bab\">\n",
              "    <div class=\"colab-df-container\">\n",
              "      <div>\n",
              "<style scoped>\n",
              "    .dataframe tbody tr th:only-of-type {\n",
              "        vertical-align: middle;\n",
              "    }\n",
              "\n",
              "    .dataframe tbody tr th {\n",
              "        vertical-align: top;\n",
              "    }\n",
              "\n",
              "    .dataframe thead th {\n",
              "        text-align: right;\n",
              "    }\n",
              "</style>\n",
              "<table border=\"1\" class=\"dataframe\">\n",
              "  <thead>\n",
              "    <tr style=\"text-align: right;\">\n",
              "      <th></th>\n",
              "      <th>Transported</th>\n",
              "      <th>VIP</th>\n",
              "    </tr>\n",
              "    <tr>\n",
              "      <th>num</th>\n",
              "      <th></th>\n",
              "      <th></th>\n",
              "    </tr>\n",
              "  </thead>\n",
              "  <tbody>\n",
              "    <tr>\n",
              "      <th>82</th>\n",
              "      <td>28</td>\n",
              "      <td>27</td>\n",
              "    </tr>\n",
              "    <tr>\n",
              "      <th>97</th>\n",
              "      <td>21</td>\n",
              "      <td>20</td>\n",
              "    </tr>\n",
              "    <tr>\n",
              "      <th>176</th>\n",
              "      <td>21</td>\n",
              "      <td>21</td>\n",
              "    </tr>\n",
              "    <tr>\n",
              "      <th>86</th>\n",
              "      <td>20</td>\n",
              "      <td>19</td>\n",
              "    </tr>\n",
              "    <tr>\n",
              "      <th>19</th>\n",
              "      <td>20</td>\n",
              "      <td>19</td>\n",
              "    </tr>\n",
              "    <tr>\n",
              "      <th>56</th>\n",
              "      <td>20</td>\n",
              "      <td>20</td>\n",
              "    </tr>\n",
              "    <tr>\n",
              "      <th>230</th>\n",
              "      <td>20</td>\n",
              "      <td>20</td>\n",
              "    </tr>\n",
              "    <tr>\n",
              "      <th>65</th>\n",
              "      <td>19</td>\n",
              "      <td>19</td>\n",
              "    </tr>\n",
              "    <tr>\n",
              "      <th>123</th>\n",
              "      <td>19</td>\n",
              "      <td>18</td>\n",
              "    </tr>\n",
              "    <tr>\n",
              "      <th>269</th>\n",
              "      <td>19</td>\n",
              "      <td>18</td>\n",
              "    </tr>\n",
              "  </tbody>\n",
              "</table>\n",
              "</div>\n",
              "      <button class=\"colab-df-convert\" onclick=\"convertToInteractive('df-42ecd69f-963f-42a8-84b6-e09705081bab')\"\n",
              "              title=\"Convert this dataframe to an interactive table.\"\n",
              "              style=\"display:none;\">\n",
              "        \n",
              "  <svg xmlns=\"http://www.w3.org/2000/svg\" height=\"24px\"viewBox=\"0 0 24 24\"\n",
              "       width=\"24px\">\n",
              "    <path d=\"M0 0h24v24H0V0z\" fill=\"none\"/>\n",
              "    <path d=\"M18.56 5.44l.94 2.06.94-2.06 2.06-.94-2.06-.94-.94-2.06-.94 2.06-2.06.94zm-11 1L8.5 8.5l.94-2.06 2.06-.94-2.06-.94L8.5 2.5l-.94 2.06-2.06.94zm10 10l.94 2.06.94-2.06 2.06-.94-2.06-.94-.94-2.06-.94 2.06-2.06.94z\"/><path d=\"M17.41 7.96l-1.37-1.37c-.4-.4-.92-.59-1.43-.59-.52 0-1.04.2-1.43.59L10.3 9.45l-7.72 7.72c-.78.78-.78 2.05 0 2.83L4 21.41c.39.39.9.59 1.41.59.51 0 1.02-.2 1.41-.59l7.78-7.78 2.81-2.81c.8-.78.8-2.07 0-2.86zM5.41 20L4 18.59l7.72-7.72 1.47 1.35L5.41 20z\"/>\n",
              "  </svg>\n",
              "      </button>\n",
              "      \n",
              "  <style>\n",
              "    .colab-df-container {\n",
              "      display:flex;\n",
              "      flex-wrap:wrap;\n",
              "      gap: 12px;\n",
              "    }\n",
              "\n",
              "    .colab-df-convert {\n",
              "      background-color: #E8F0FE;\n",
              "      border: none;\n",
              "      border-radius: 50%;\n",
              "      cursor: pointer;\n",
              "      display: none;\n",
              "      fill: #1967D2;\n",
              "      height: 32px;\n",
              "      padding: 0 0 0 0;\n",
              "      width: 32px;\n",
              "    }\n",
              "\n",
              "    .colab-df-convert:hover {\n",
              "      background-color: #E2EBFA;\n",
              "      box-shadow: 0px 1px 2px rgba(60, 64, 67, 0.3), 0px 1px 3px 1px rgba(60, 64, 67, 0.15);\n",
              "      fill: #174EA6;\n",
              "    }\n",
              "\n",
              "    [theme=dark] .colab-df-convert {\n",
              "      background-color: #3B4455;\n",
              "      fill: #D2E3FC;\n",
              "    }\n",
              "\n",
              "    [theme=dark] .colab-df-convert:hover {\n",
              "      background-color: #434B5C;\n",
              "      box-shadow: 0px 1px 3px 1px rgba(0, 0, 0, 0.15);\n",
              "      filter: drop-shadow(0px 1px 2px rgba(0, 0, 0, 0.3));\n",
              "      fill: #FFFFFF;\n",
              "    }\n",
              "  </style>\n",
              "\n",
              "      <script>\n",
              "        const buttonEl =\n",
              "          document.querySelector('#df-42ecd69f-963f-42a8-84b6-e09705081bab button.colab-df-convert');\n",
              "        buttonEl.style.display =\n",
              "          google.colab.kernel.accessAllowed ? 'block' : 'none';\n",
              "\n",
              "        async function convertToInteractive(key) {\n",
              "          const element = document.querySelector('#df-42ecd69f-963f-42a8-84b6-e09705081bab');\n",
              "          const dataTable =\n",
              "            await google.colab.kernel.invokeFunction('convertToInteractive',\n",
              "                                                     [key], {});\n",
              "          if (!dataTable) return;\n",
              "\n",
              "          const docLinkHtml = 'Like what you see? Visit the ' +\n",
              "            '<a target=\"_blank\" href=https://colab.research.google.com/notebooks/data_table.ipynb>data table notebook</a>'\n",
              "            + ' to learn more about interactive tables.';\n",
              "          element.innerHTML = '';\n",
              "          dataTable['output_type'] = 'display_data';\n",
              "          await google.colab.output.renderOutput(dataTable, element);\n",
              "          const docLink = document.createElement('div');\n",
              "          docLink.innerHTML = docLinkHtml;\n",
              "          element.appendChild(docLink);\n",
              "        }\n",
              "      </script>\n",
              "    </div>\n",
              "  </div>\n",
              "  "
            ]
          },
          "metadata": {},
          "execution_count": 33
        }
      ]
    },
    {
      "cell_type": "code",
      "source": [
        "train.drop(columns=['num'], inplace=True)"
      ],
      "metadata": {
        "id": "etJUM5arjts5"
      },
      "execution_count": 34,
      "outputs": []
    },
    {
      "cell_type": "code",
      "source": [
        "true_filter = train['Transported'] == True \n",
        "train_grouped = train.loc[true_filter, :]\n",
        "train_grouped = train.groupby(by=['side']).count()\n",
        "train_grouped[['Transported','VIP']].sort_values(by = ['Transported'],ascending=False)[:10] #no es considerable, se eliminara"
      ],
      "metadata": {
        "id": "sGPr8QUqj0fy",
        "outputId": "cdd3e439-3a66-4525-f475-8bd0b57cf41f",
        "colab": {
          "base_uri": "https://localhost:8080/",
          "height": 143
        }
      },
      "execution_count": 35,
      "outputs": [
        {
          "output_type": "execute_result",
          "data": {
            "text/plain": [
              "      Transported   VIP\n",
              "side                   \n",
              "S            4186  4085\n",
              "P            4113  4020"
            ],
            "text/html": [
              "\n",
              "  <div id=\"df-620e4657-94db-4ecf-a73c-1eaba67f96bf\">\n",
              "    <div class=\"colab-df-container\">\n",
              "      <div>\n",
              "<style scoped>\n",
              "    .dataframe tbody tr th:only-of-type {\n",
              "        vertical-align: middle;\n",
              "    }\n",
              "\n",
              "    .dataframe tbody tr th {\n",
              "        vertical-align: top;\n",
              "    }\n",
              "\n",
              "    .dataframe thead th {\n",
              "        text-align: right;\n",
              "    }\n",
              "</style>\n",
              "<table border=\"1\" class=\"dataframe\">\n",
              "  <thead>\n",
              "    <tr style=\"text-align: right;\">\n",
              "      <th></th>\n",
              "      <th>Transported</th>\n",
              "      <th>VIP</th>\n",
              "    </tr>\n",
              "    <tr>\n",
              "      <th>side</th>\n",
              "      <th></th>\n",
              "      <th></th>\n",
              "    </tr>\n",
              "  </thead>\n",
              "  <tbody>\n",
              "    <tr>\n",
              "      <th>S</th>\n",
              "      <td>4186</td>\n",
              "      <td>4085</td>\n",
              "    </tr>\n",
              "    <tr>\n",
              "      <th>P</th>\n",
              "      <td>4113</td>\n",
              "      <td>4020</td>\n",
              "    </tr>\n",
              "  </tbody>\n",
              "</table>\n",
              "</div>\n",
              "      <button class=\"colab-df-convert\" onclick=\"convertToInteractive('df-620e4657-94db-4ecf-a73c-1eaba67f96bf')\"\n",
              "              title=\"Convert this dataframe to an interactive table.\"\n",
              "              style=\"display:none;\">\n",
              "        \n",
              "  <svg xmlns=\"http://www.w3.org/2000/svg\" height=\"24px\"viewBox=\"0 0 24 24\"\n",
              "       width=\"24px\">\n",
              "    <path d=\"M0 0h24v24H0V0z\" fill=\"none\"/>\n",
              "    <path d=\"M18.56 5.44l.94 2.06.94-2.06 2.06-.94-2.06-.94-.94-2.06-.94 2.06-2.06.94zm-11 1L8.5 8.5l.94-2.06 2.06-.94-2.06-.94L8.5 2.5l-.94 2.06-2.06.94zm10 10l.94 2.06.94-2.06 2.06-.94-2.06-.94-.94-2.06-.94 2.06-2.06.94z\"/><path d=\"M17.41 7.96l-1.37-1.37c-.4-.4-.92-.59-1.43-.59-.52 0-1.04.2-1.43.59L10.3 9.45l-7.72 7.72c-.78.78-.78 2.05 0 2.83L4 21.41c.39.39.9.59 1.41.59.51 0 1.02-.2 1.41-.59l7.78-7.78 2.81-2.81c.8-.78.8-2.07 0-2.86zM5.41 20L4 18.59l7.72-7.72 1.47 1.35L5.41 20z\"/>\n",
              "  </svg>\n",
              "      </button>\n",
              "      \n",
              "  <style>\n",
              "    .colab-df-container {\n",
              "      display:flex;\n",
              "      flex-wrap:wrap;\n",
              "      gap: 12px;\n",
              "    }\n",
              "\n",
              "    .colab-df-convert {\n",
              "      background-color: #E8F0FE;\n",
              "      border: none;\n",
              "      border-radius: 50%;\n",
              "      cursor: pointer;\n",
              "      display: none;\n",
              "      fill: #1967D2;\n",
              "      height: 32px;\n",
              "      padding: 0 0 0 0;\n",
              "      width: 32px;\n",
              "    }\n",
              "\n",
              "    .colab-df-convert:hover {\n",
              "      background-color: #E2EBFA;\n",
              "      box-shadow: 0px 1px 2px rgba(60, 64, 67, 0.3), 0px 1px 3px 1px rgba(60, 64, 67, 0.15);\n",
              "      fill: #174EA6;\n",
              "    }\n",
              "\n",
              "    [theme=dark] .colab-df-convert {\n",
              "      background-color: #3B4455;\n",
              "      fill: #D2E3FC;\n",
              "    }\n",
              "\n",
              "    [theme=dark] .colab-df-convert:hover {\n",
              "      background-color: #434B5C;\n",
              "      box-shadow: 0px 1px 3px 1px rgba(0, 0, 0, 0.15);\n",
              "      filter: drop-shadow(0px 1px 2px rgba(0, 0, 0, 0.3));\n",
              "      fill: #FFFFFF;\n",
              "    }\n",
              "  </style>\n",
              "\n",
              "      <script>\n",
              "        const buttonEl =\n",
              "          document.querySelector('#df-620e4657-94db-4ecf-a73c-1eaba67f96bf button.colab-df-convert');\n",
              "        buttonEl.style.display =\n",
              "          google.colab.kernel.accessAllowed ? 'block' : 'none';\n",
              "\n",
              "        async function convertToInteractive(key) {\n",
              "          const element = document.querySelector('#df-620e4657-94db-4ecf-a73c-1eaba67f96bf');\n",
              "          const dataTable =\n",
              "            await google.colab.kernel.invokeFunction('convertToInteractive',\n",
              "                                                     [key], {});\n",
              "          if (!dataTable) return;\n",
              "\n",
              "          const docLinkHtml = 'Like what you see? Visit the ' +\n",
              "            '<a target=\"_blank\" href=https://colab.research.google.com/notebooks/data_table.ipynb>data table notebook</a>'\n",
              "            + ' to learn more about interactive tables.';\n",
              "          element.innerHTML = '';\n",
              "          dataTable['output_type'] = 'display_data';\n",
              "          await google.colab.output.renderOutput(dataTable, element);\n",
              "          const docLink = document.createElement('div');\n",
              "          docLink.innerHTML = docLinkHtml;\n",
              "          element.appendChild(docLink);\n",
              "        }\n",
              "      </script>\n",
              "    </div>\n",
              "  </div>\n",
              "  "
            ]
          },
          "metadata": {},
          "execution_count": 35
        }
      ]
    },
    {
      "cell_type": "code",
      "source": [
        "train.drop(columns=['side'], inplace=True)"
      ],
      "metadata": {
        "id": "G-yoJy88k0tb"
      },
      "execution_count": 36,
      "outputs": []
    },
    {
      "cell_type": "code",
      "source": [
        "train.head(5)"
      ],
      "metadata": {
        "id": "LDgY1Ow5k7C4",
        "colab": {
          "base_uri": "https://localhost:8080/",
          "height": 206
        },
        "outputId": "9660b8bf-a4ef-4bff-8553-b177de75086e"
      },
      "execution_count": 37,
      "outputs": [
        {
          "output_type": "execute_result",
          "data": {
            "text/plain": [
              "  HomePlanet CryoSleep  Destination   Age    VIP  Transported deck  \\\n",
              "0     Europa     False  TRAPPIST-1e  39.0  False        False    B   \n",
              "1      Earth     False  TRAPPIST-1e  24.0  False         True    F   \n",
              "2     Europa     False  TRAPPIST-1e  58.0   True        False    A   \n",
              "3     Europa     False  TRAPPIST-1e  33.0  False        False    A   \n",
              "4      Earth     False  TRAPPIST-1e  16.0  False         True    F   \n",
              "\n",
              "   total_billed  \n",
              "0           0.0  \n",
              "1         736.0  \n",
              "2       10383.0  \n",
              "3        5176.0  \n",
              "4        1091.0  "
            ],
            "text/html": [
              "\n",
              "  <div id=\"df-aaac88cf-6d5c-45cc-99a6-67adcf9f8a8f\">\n",
              "    <div class=\"colab-df-container\">\n",
              "      <div>\n",
              "<style scoped>\n",
              "    .dataframe tbody tr th:only-of-type {\n",
              "        vertical-align: middle;\n",
              "    }\n",
              "\n",
              "    .dataframe tbody tr th {\n",
              "        vertical-align: top;\n",
              "    }\n",
              "\n",
              "    .dataframe thead th {\n",
              "        text-align: right;\n",
              "    }\n",
              "</style>\n",
              "<table border=\"1\" class=\"dataframe\">\n",
              "  <thead>\n",
              "    <tr style=\"text-align: right;\">\n",
              "      <th></th>\n",
              "      <th>HomePlanet</th>\n",
              "      <th>CryoSleep</th>\n",
              "      <th>Destination</th>\n",
              "      <th>Age</th>\n",
              "      <th>VIP</th>\n",
              "      <th>Transported</th>\n",
              "      <th>deck</th>\n",
              "      <th>total_billed</th>\n",
              "    </tr>\n",
              "  </thead>\n",
              "  <tbody>\n",
              "    <tr>\n",
              "      <th>0</th>\n",
              "      <td>Europa</td>\n",
              "      <td>False</td>\n",
              "      <td>TRAPPIST-1e</td>\n",
              "      <td>39.0</td>\n",
              "      <td>False</td>\n",
              "      <td>False</td>\n",
              "      <td>B</td>\n",
              "      <td>0.0</td>\n",
              "    </tr>\n",
              "    <tr>\n",
              "      <th>1</th>\n",
              "      <td>Earth</td>\n",
              "      <td>False</td>\n",
              "      <td>TRAPPIST-1e</td>\n",
              "      <td>24.0</td>\n",
              "      <td>False</td>\n",
              "      <td>True</td>\n",
              "      <td>F</td>\n",
              "      <td>736.0</td>\n",
              "    </tr>\n",
              "    <tr>\n",
              "      <th>2</th>\n",
              "      <td>Europa</td>\n",
              "      <td>False</td>\n",
              "      <td>TRAPPIST-1e</td>\n",
              "      <td>58.0</td>\n",
              "      <td>True</td>\n",
              "      <td>False</td>\n",
              "      <td>A</td>\n",
              "      <td>10383.0</td>\n",
              "    </tr>\n",
              "    <tr>\n",
              "      <th>3</th>\n",
              "      <td>Europa</td>\n",
              "      <td>False</td>\n",
              "      <td>TRAPPIST-1e</td>\n",
              "      <td>33.0</td>\n",
              "      <td>False</td>\n",
              "      <td>False</td>\n",
              "      <td>A</td>\n",
              "      <td>5176.0</td>\n",
              "    </tr>\n",
              "    <tr>\n",
              "      <th>4</th>\n",
              "      <td>Earth</td>\n",
              "      <td>False</td>\n",
              "      <td>TRAPPIST-1e</td>\n",
              "      <td>16.0</td>\n",
              "      <td>False</td>\n",
              "      <td>True</td>\n",
              "      <td>F</td>\n",
              "      <td>1091.0</td>\n",
              "    </tr>\n",
              "  </tbody>\n",
              "</table>\n",
              "</div>\n",
              "      <button class=\"colab-df-convert\" onclick=\"convertToInteractive('df-aaac88cf-6d5c-45cc-99a6-67adcf9f8a8f')\"\n",
              "              title=\"Convert this dataframe to an interactive table.\"\n",
              "              style=\"display:none;\">\n",
              "        \n",
              "  <svg xmlns=\"http://www.w3.org/2000/svg\" height=\"24px\"viewBox=\"0 0 24 24\"\n",
              "       width=\"24px\">\n",
              "    <path d=\"M0 0h24v24H0V0z\" fill=\"none\"/>\n",
              "    <path d=\"M18.56 5.44l.94 2.06.94-2.06 2.06-.94-2.06-.94-.94-2.06-.94 2.06-2.06.94zm-11 1L8.5 8.5l.94-2.06 2.06-.94-2.06-.94L8.5 2.5l-.94 2.06-2.06.94zm10 10l.94 2.06.94-2.06 2.06-.94-2.06-.94-.94-2.06-.94 2.06-2.06.94z\"/><path d=\"M17.41 7.96l-1.37-1.37c-.4-.4-.92-.59-1.43-.59-.52 0-1.04.2-1.43.59L10.3 9.45l-7.72 7.72c-.78.78-.78 2.05 0 2.83L4 21.41c.39.39.9.59 1.41.59.51 0 1.02-.2 1.41-.59l7.78-7.78 2.81-2.81c.8-.78.8-2.07 0-2.86zM5.41 20L4 18.59l7.72-7.72 1.47 1.35L5.41 20z\"/>\n",
              "  </svg>\n",
              "      </button>\n",
              "      \n",
              "  <style>\n",
              "    .colab-df-container {\n",
              "      display:flex;\n",
              "      flex-wrap:wrap;\n",
              "      gap: 12px;\n",
              "    }\n",
              "\n",
              "    .colab-df-convert {\n",
              "      background-color: #E8F0FE;\n",
              "      border: none;\n",
              "      border-radius: 50%;\n",
              "      cursor: pointer;\n",
              "      display: none;\n",
              "      fill: #1967D2;\n",
              "      height: 32px;\n",
              "      padding: 0 0 0 0;\n",
              "      width: 32px;\n",
              "    }\n",
              "\n",
              "    .colab-df-convert:hover {\n",
              "      background-color: #E2EBFA;\n",
              "      box-shadow: 0px 1px 2px rgba(60, 64, 67, 0.3), 0px 1px 3px 1px rgba(60, 64, 67, 0.15);\n",
              "      fill: #174EA6;\n",
              "    }\n",
              "\n",
              "    [theme=dark] .colab-df-convert {\n",
              "      background-color: #3B4455;\n",
              "      fill: #D2E3FC;\n",
              "    }\n",
              "\n",
              "    [theme=dark] .colab-df-convert:hover {\n",
              "      background-color: #434B5C;\n",
              "      box-shadow: 0px 1px 3px 1px rgba(0, 0, 0, 0.15);\n",
              "      filter: drop-shadow(0px 1px 2px rgba(0, 0, 0, 0.3));\n",
              "      fill: #FFFFFF;\n",
              "    }\n",
              "  </style>\n",
              "\n",
              "      <script>\n",
              "        const buttonEl =\n",
              "          document.querySelector('#df-aaac88cf-6d5c-45cc-99a6-67adcf9f8a8f button.colab-df-convert');\n",
              "        buttonEl.style.display =\n",
              "          google.colab.kernel.accessAllowed ? 'block' : 'none';\n",
              "\n",
              "        async function convertToInteractive(key) {\n",
              "          const element = document.querySelector('#df-aaac88cf-6d5c-45cc-99a6-67adcf9f8a8f');\n",
              "          const dataTable =\n",
              "            await google.colab.kernel.invokeFunction('convertToInteractive',\n",
              "                                                     [key], {});\n",
              "          if (!dataTable) return;\n",
              "\n",
              "          const docLinkHtml = 'Like what you see? Visit the ' +\n",
              "            '<a target=\"_blank\" href=https://colab.research.google.com/notebooks/data_table.ipynb>data table notebook</a>'\n",
              "            + ' to learn more about interactive tables.';\n",
              "          element.innerHTML = '';\n",
              "          dataTable['output_type'] = 'display_data';\n",
              "          await google.colab.output.renderOutput(dataTable, element);\n",
              "          const docLink = document.createElement('div');\n",
              "          docLink.innerHTML = docLinkHtml;\n",
              "          element.appendChild(docLink);\n",
              "        }\n",
              "      </script>\n",
              "    </div>\n",
              "  </div>\n",
              "  "
            ]
          },
          "metadata": {},
          "execution_count": 37
        }
      ]
    },
    {
      "cell_type": "code",
      "source": [
        "train.isna().sum()"
      ],
      "metadata": {
        "colab": {
          "base_uri": "https://localhost:8080/"
        },
        "id": "xq18iNufy2ik",
        "outputId": "68228fa9-10f6-4747-9ad7-442e676c6a34"
      },
      "execution_count": 38,
      "outputs": [
        {
          "output_type": "execute_result",
          "data": {
            "text/plain": [
              "HomePlanet        0\n",
              "CryoSleep       215\n",
              "Destination     178\n",
              "Age             177\n",
              "VIP             200\n",
              "Transported       0\n",
              "deck            193\n",
              "total_billed      0\n",
              "dtype: int64"
            ]
          },
          "metadata": {},
          "execution_count": 38
        }
      ]
    },
    {
      "cell_type": "markdown",
      "source": [
        "Para imputar los valores se van a utilizar las metodología:\n",
        "\n",
        "- mean para valores numericos\n",
        "- most frequent para valores categoricos"
      ],
      "metadata": {
        "id": "maoKXbM9zKSn"
      }
    },
    {
      "cell_type": "code",
      "source": [
        "# Dividimo nuestro dataset\n",
        "X = train.drop('Transported', axis=1)\n",
        "y = train['Transported']\n",
        "X_train, X_test, y_train, y_test = train_test_split(X, y, random_state=42)\n",
        "\n",
        "# Selectors\n",
        "cat_selector = make_column_selector(dtype_include='object')\n",
        "num_selector = make_column_selector(dtype_include='number')\n",
        "\n",
        "# Imputers\n",
        "freq_imputer = SimpleImputer(strategy='most_frequent')\n",
        "mean_imputer = SimpleImputer(strategy='mean')\n",
        "# Scaler\n",
        "scaler = StandardScaler()\n",
        "# One-hot encoder\n",
        "ohe = OneHotEncoder(handle_unknown='ignore', sparse=False)"
      ],
      "metadata": {
        "id": "n5Xu2wmKzJKd"
      },
      "execution_count": 39,
      "outputs": []
    },
    {
      "cell_type": "code",
      "source": [
        "numeric_pipe = make_pipeline(mean_imputer, scaler)\n",
        "categorical_pipe = make_pipeline(freq_imputer, ohe)"
      ],
      "metadata": {
        "id": "ss60IIFqzzG0"
      },
      "execution_count": 40,
      "outputs": []
    },
    {
      "cell_type": "code",
      "source": [
        "# Tuples para Column Transformer\n",
        "number_tuple = (numeric_pipe, num_selector)\n",
        "category_tuple = (categorical_pipe, cat_selector)\n",
        "# ColumnTransformer\n",
        "preprocessor = make_column_transformer(number_tuple, category_tuple)\n",
        "preprocessor"
      ],
      "metadata": {
        "colab": {
          "base_uri": "https://localhost:8080/",
          "height": 153
        },
        "id": "4X90WSFaz4cN",
        "outputId": "9b0928e7-8423-45c1-9a65-9d6487083bf6"
      },
      "execution_count": 41,
      "outputs": [
        {
          "output_type": "execute_result",
          "data": {
            "text/plain": [
              "ColumnTransformer(transformers=[('pipeline-1',\n",
              "                                 Pipeline(steps=[('simpleimputer',\n",
              "                                                  SimpleImputer()),\n",
              "                                                 ('standardscaler',\n",
              "                                                  StandardScaler())]),\n",
              "                                 <sklearn.compose._column_transformer.make_column_selector object at 0x7fd5c2729cd0>),\n",
              "                                ('pipeline-2',\n",
              "                                 Pipeline(steps=[('simpleimputer',\n",
              "                                                  SimpleImputer(strategy='most_frequent')),\n",
              "                                                 ('onehotencoder',\n",
              "                                                  OneHotEncoder(handle_unknown='ignore',\n",
              "                                                                sparse=False))]),\n",
              "                                 <sklearn.compose._column_transformer.make_column_selector object at 0x7fd5c2729be0>)])"
            ],
            "text/html": [
              "<style>#sk-203cf715-3a80-4206-83da-1d91df60a89b {color: black;background-color: white;}#sk-203cf715-3a80-4206-83da-1d91df60a89b pre{padding: 0;}#sk-203cf715-3a80-4206-83da-1d91df60a89b div.sk-toggleable {background-color: white;}#sk-203cf715-3a80-4206-83da-1d91df60a89b label.sk-toggleable__label {cursor: pointer;display: block;width: 100%;margin-bottom: 0;padding: 0.3em;box-sizing: border-box;text-align: center;}#sk-203cf715-3a80-4206-83da-1d91df60a89b label.sk-toggleable__label-arrow:before {content: \"▸\";float: left;margin-right: 0.25em;color: #696969;}#sk-203cf715-3a80-4206-83da-1d91df60a89b label.sk-toggleable__label-arrow:hover:before {color: black;}#sk-203cf715-3a80-4206-83da-1d91df60a89b div.sk-estimator:hover label.sk-toggleable__label-arrow:before {color: black;}#sk-203cf715-3a80-4206-83da-1d91df60a89b div.sk-toggleable__content {max-height: 0;max-width: 0;overflow: hidden;text-align: left;background-color: #f0f8ff;}#sk-203cf715-3a80-4206-83da-1d91df60a89b div.sk-toggleable__content pre {margin: 0.2em;color: black;border-radius: 0.25em;background-color: #f0f8ff;}#sk-203cf715-3a80-4206-83da-1d91df60a89b input.sk-toggleable__control:checked~div.sk-toggleable__content {max-height: 200px;max-width: 100%;overflow: auto;}#sk-203cf715-3a80-4206-83da-1d91df60a89b input.sk-toggleable__control:checked~label.sk-toggleable__label-arrow:before {content: \"▾\";}#sk-203cf715-3a80-4206-83da-1d91df60a89b div.sk-estimator input.sk-toggleable__control:checked~label.sk-toggleable__label {background-color: #d4ebff;}#sk-203cf715-3a80-4206-83da-1d91df60a89b div.sk-label input.sk-toggleable__control:checked~label.sk-toggleable__label {background-color: #d4ebff;}#sk-203cf715-3a80-4206-83da-1d91df60a89b input.sk-hidden--visually {border: 0;clip: rect(1px 1px 1px 1px);clip: rect(1px, 1px, 1px, 1px);height: 1px;margin: -1px;overflow: hidden;padding: 0;position: absolute;width: 1px;}#sk-203cf715-3a80-4206-83da-1d91df60a89b div.sk-estimator {font-family: monospace;background-color: #f0f8ff;border: 1px dotted black;border-radius: 0.25em;box-sizing: border-box;margin-bottom: 0.5em;}#sk-203cf715-3a80-4206-83da-1d91df60a89b div.sk-estimator:hover {background-color: #d4ebff;}#sk-203cf715-3a80-4206-83da-1d91df60a89b div.sk-parallel-item::after {content: \"\";width: 100%;border-bottom: 1px solid gray;flex-grow: 1;}#sk-203cf715-3a80-4206-83da-1d91df60a89b div.sk-label:hover label.sk-toggleable__label {background-color: #d4ebff;}#sk-203cf715-3a80-4206-83da-1d91df60a89b div.sk-serial::before {content: \"\";position: absolute;border-left: 1px solid gray;box-sizing: border-box;top: 2em;bottom: 0;left: 50%;}#sk-203cf715-3a80-4206-83da-1d91df60a89b div.sk-serial {display: flex;flex-direction: column;align-items: center;background-color: white;padding-right: 0.2em;padding-left: 0.2em;}#sk-203cf715-3a80-4206-83da-1d91df60a89b div.sk-item {z-index: 1;}#sk-203cf715-3a80-4206-83da-1d91df60a89b div.sk-parallel {display: flex;align-items: stretch;justify-content: center;background-color: white;}#sk-203cf715-3a80-4206-83da-1d91df60a89b div.sk-parallel::before {content: \"\";position: absolute;border-left: 1px solid gray;box-sizing: border-box;top: 2em;bottom: 0;left: 50%;}#sk-203cf715-3a80-4206-83da-1d91df60a89b div.sk-parallel-item {display: flex;flex-direction: column;position: relative;background-color: white;}#sk-203cf715-3a80-4206-83da-1d91df60a89b div.sk-parallel-item:first-child::after {align-self: flex-end;width: 50%;}#sk-203cf715-3a80-4206-83da-1d91df60a89b div.sk-parallel-item:last-child::after {align-self: flex-start;width: 50%;}#sk-203cf715-3a80-4206-83da-1d91df60a89b div.sk-parallel-item:only-child::after {width: 0;}#sk-203cf715-3a80-4206-83da-1d91df60a89b div.sk-dashed-wrapped {border: 1px dashed gray;margin: 0 0.4em 0.5em 0.4em;box-sizing: border-box;padding-bottom: 0.4em;background-color: white;position: relative;}#sk-203cf715-3a80-4206-83da-1d91df60a89b div.sk-label label {font-family: monospace;font-weight: bold;background-color: white;display: inline-block;line-height: 1.2em;}#sk-203cf715-3a80-4206-83da-1d91df60a89b div.sk-label-container {position: relative;z-index: 2;text-align: center;}#sk-203cf715-3a80-4206-83da-1d91df60a89b div.sk-container {/* jupyter's `normalize.less` sets `[hidden] { display: none; }` but bootstrap.min.css set `[hidden] { display: none !important; }` so we also need the `!important` here to be able to override the default hidden behavior on the sphinx rendered scikit-learn.org. See: https://github.com/scikit-learn/scikit-learn/issues/21755 */display: inline-block !important;position: relative;}#sk-203cf715-3a80-4206-83da-1d91df60a89b div.sk-text-repr-fallback {display: none;}</style><div id=\"sk-203cf715-3a80-4206-83da-1d91df60a89b\" class=\"sk-top-container\"><div class=\"sk-text-repr-fallback\"><pre>ColumnTransformer(transformers=[(&#x27;pipeline-1&#x27;,\n",
              "                                 Pipeline(steps=[(&#x27;simpleimputer&#x27;,\n",
              "                                                  SimpleImputer()),\n",
              "                                                 (&#x27;standardscaler&#x27;,\n",
              "                                                  StandardScaler())]),\n",
              "                                 &lt;sklearn.compose._column_transformer.make_column_selector object at 0x7fd5c2729cd0&gt;),\n",
              "                                (&#x27;pipeline-2&#x27;,\n",
              "                                 Pipeline(steps=[(&#x27;simpleimputer&#x27;,\n",
              "                                                  SimpleImputer(strategy=&#x27;most_frequent&#x27;)),\n",
              "                                                 (&#x27;onehotencoder&#x27;,\n",
              "                                                  OneHotEncoder(handle_unknown=&#x27;ignore&#x27;,\n",
              "                                                                sparse=False))]),\n",
              "                                 &lt;sklearn.compose._column_transformer.make_column_selector object at 0x7fd5c2729be0&gt;)])</pre><b>Please rerun this cell to show the HTML repr or trust the notebook.</b></div><div class=\"sk-container\" hidden><div class=\"sk-item sk-dashed-wrapped\"><div class=\"sk-label-container\"><div class=\"sk-label sk-toggleable\"><input class=\"sk-toggleable__control sk-hidden--visually\" id=\"87ac6558-ed64-4d62-a7b2-013637c3adbb\" type=\"checkbox\" ><label for=\"87ac6558-ed64-4d62-a7b2-013637c3adbb\" class=\"sk-toggleable__label sk-toggleable__label-arrow\">ColumnTransformer</label><div class=\"sk-toggleable__content\"><pre>ColumnTransformer(transformers=[(&#x27;pipeline-1&#x27;,\n",
              "                                 Pipeline(steps=[(&#x27;simpleimputer&#x27;,\n",
              "                                                  SimpleImputer()),\n",
              "                                                 (&#x27;standardscaler&#x27;,\n",
              "                                                  StandardScaler())]),\n",
              "                                 &lt;sklearn.compose._column_transformer.make_column_selector object at 0x7fd5c2729cd0&gt;),\n",
              "                                (&#x27;pipeline-2&#x27;,\n",
              "                                 Pipeline(steps=[(&#x27;simpleimputer&#x27;,\n",
              "                                                  SimpleImputer(strategy=&#x27;most_frequent&#x27;)),\n",
              "                                                 (&#x27;onehotencoder&#x27;,\n",
              "                                                  OneHotEncoder(handle_unknown=&#x27;ignore&#x27;,\n",
              "                                                                sparse=False))]),\n",
              "                                 &lt;sklearn.compose._column_transformer.make_column_selector object at 0x7fd5c2729be0&gt;)])</pre></div></div></div><div class=\"sk-parallel\"><div class=\"sk-parallel-item\"><div class=\"sk-item\"><div class=\"sk-label-container\"><div class=\"sk-label sk-toggleable\"><input class=\"sk-toggleable__control sk-hidden--visually\" id=\"d5afb81d-7c95-4169-8462-2861ede9da19\" type=\"checkbox\" ><label for=\"d5afb81d-7c95-4169-8462-2861ede9da19\" class=\"sk-toggleable__label sk-toggleable__label-arrow\">pipeline-1</label><div class=\"sk-toggleable__content\"><pre>&lt;sklearn.compose._column_transformer.make_column_selector object at 0x7fd5c2729cd0&gt;</pre></div></div></div><div class=\"sk-serial\"><div class=\"sk-item\"><div class=\"sk-serial\"><div class=\"sk-item\"><div class=\"sk-estimator sk-toggleable\"><input class=\"sk-toggleable__control sk-hidden--visually\" id=\"ab12a0b0-dd0e-4a42-a0ba-0b114be3225b\" type=\"checkbox\" ><label for=\"ab12a0b0-dd0e-4a42-a0ba-0b114be3225b\" class=\"sk-toggleable__label sk-toggleable__label-arrow\">SimpleImputer</label><div class=\"sk-toggleable__content\"><pre>SimpleImputer()</pre></div></div></div><div class=\"sk-item\"><div class=\"sk-estimator sk-toggleable\"><input class=\"sk-toggleable__control sk-hidden--visually\" id=\"6b320408-a374-49fb-b981-2570cf0e39b9\" type=\"checkbox\" ><label for=\"6b320408-a374-49fb-b981-2570cf0e39b9\" class=\"sk-toggleable__label sk-toggleable__label-arrow\">StandardScaler</label><div class=\"sk-toggleable__content\"><pre>StandardScaler()</pre></div></div></div></div></div></div></div></div><div class=\"sk-parallel-item\"><div class=\"sk-item\"><div class=\"sk-label-container\"><div class=\"sk-label sk-toggleable\"><input class=\"sk-toggleable__control sk-hidden--visually\" id=\"2913f7c4-f0b7-4d0f-8014-1e495eaaf442\" type=\"checkbox\" ><label for=\"2913f7c4-f0b7-4d0f-8014-1e495eaaf442\" class=\"sk-toggleable__label sk-toggleable__label-arrow\">pipeline-2</label><div class=\"sk-toggleable__content\"><pre>&lt;sklearn.compose._column_transformer.make_column_selector object at 0x7fd5c2729be0&gt;</pre></div></div></div><div class=\"sk-serial\"><div class=\"sk-item\"><div class=\"sk-serial\"><div class=\"sk-item\"><div class=\"sk-estimator sk-toggleable\"><input class=\"sk-toggleable__control sk-hidden--visually\" id=\"6661f3f9-f202-44f8-8f08-12202b167df5\" type=\"checkbox\" ><label for=\"6661f3f9-f202-44f8-8f08-12202b167df5\" class=\"sk-toggleable__label sk-toggleable__label-arrow\">SimpleImputer</label><div class=\"sk-toggleable__content\"><pre>SimpleImputer(strategy=&#x27;most_frequent&#x27;)</pre></div></div></div><div class=\"sk-item\"><div class=\"sk-estimator sk-toggleable\"><input class=\"sk-toggleable__control sk-hidden--visually\" id=\"75746734-7f3e-41a0-940b-af8d6dacfdff\" type=\"checkbox\" ><label for=\"75746734-7f3e-41a0-940b-af8d6dacfdff\" class=\"sk-toggleable__label sk-toggleable__label-arrow\">OneHotEncoder</label><div class=\"sk-toggleable__content\"><pre>OneHotEncoder(handle_unknown=&#x27;ignore&#x27;, sparse=False)</pre></div></div></div></div></div></div></div></div></div></div></div></div>"
            ]
          },
          "metadata": {},
          "execution_count": 41
        }
      ]
    },
    {
      "cell_type": "code",
      "source": [
        "preprocessor.fit(X_train)\n"
      ],
      "metadata": {
        "colab": {
          "base_uri": "https://localhost:8080/",
          "height": 153
        },
        "id": "9iSneSPKz7AQ",
        "outputId": "ddebef6e-7ee5-4de4-8385-6d57bda31581"
      },
      "execution_count": 42,
      "outputs": [
        {
          "output_type": "execute_result",
          "data": {
            "text/plain": [
              "ColumnTransformer(transformers=[('pipeline-1',\n",
              "                                 Pipeline(steps=[('simpleimputer',\n",
              "                                                  SimpleImputer()),\n",
              "                                                 ('standardscaler',\n",
              "                                                  StandardScaler())]),\n",
              "                                 <sklearn.compose._column_transformer.make_column_selector object at 0x7fd5c2729cd0>),\n",
              "                                ('pipeline-2',\n",
              "                                 Pipeline(steps=[('simpleimputer',\n",
              "                                                  SimpleImputer(strategy='most_frequent')),\n",
              "                                                 ('onehotencoder',\n",
              "                                                  OneHotEncoder(handle_unknown='ignore',\n",
              "                                                                sparse=False))]),\n",
              "                                 <sklearn.compose._column_transformer.make_column_selector object at 0x7fd5c2729be0>)])"
            ],
            "text/html": [
              "<style>#sk-36def0f2-f16e-4cc6-a32d-334e28c3bd95 {color: black;background-color: white;}#sk-36def0f2-f16e-4cc6-a32d-334e28c3bd95 pre{padding: 0;}#sk-36def0f2-f16e-4cc6-a32d-334e28c3bd95 div.sk-toggleable {background-color: white;}#sk-36def0f2-f16e-4cc6-a32d-334e28c3bd95 label.sk-toggleable__label {cursor: pointer;display: block;width: 100%;margin-bottom: 0;padding: 0.3em;box-sizing: border-box;text-align: center;}#sk-36def0f2-f16e-4cc6-a32d-334e28c3bd95 label.sk-toggleable__label-arrow:before {content: \"▸\";float: left;margin-right: 0.25em;color: #696969;}#sk-36def0f2-f16e-4cc6-a32d-334e28c3bd95 label.sk-toggleable__label-arrow:hover:before {color: black;}#sk-36def0f2-f16e-4cc6-a32d-334e28c3bd95 div.sk-estimator:hover label.sk-toggleable__label-arrow:before {color: black;}#sk-36def0f2-f16e-4cc6-a32d-334e28c3bd95 div.sk-toggleable__content {max-height: 0;max-width: 0;overflow: hidden;text-align: left;background-color: #f0f8ff;}#sk-36def0f2-f16e-4cc6-a32d-334e28c3bd95 div.sk-toggleable__content pre {margin: 0.2em;color: black;border-radius: 0.25em;background-color: #f0f8ff;}#sk-36def0f2-f16e-4cc6-a32d-334e28c3bd95 input.sk-toggleable__control:checked~div.sk-toggleable__content {max-height: 200px;max-width: 100%;overflow: auto;}#sk-36def0f2-f16e-4cc6-a32d-334e28c3bd95 input.sk-toggleable__control:checked~label.sk-toggleable__label-arrow:before {content: \"▾\";}#sk-36def0f2-f16e-4cc6-a32d-334e28c3bd95 div.sk-estimator input.sk-toggleable__control:checked~label.sk-toggleable__label {background-color: #d4ebff;}#sk-36def0f2-f16e-4cc6-a32d-334e28c3bd95 div.sk-label input.sk-toggleable__control:checked~label.sk-toggleable__label {background-color: #d4ebff;}#sk-36def0f2-f16e-4cc6-a32d-334e28c3bd95 input.sk-hidden--visually {border: 0;clip: rect(1px 1px 1px 1px);clip: rect(1px, 1px, 1px, 1px);height: 1px;margin: -1px;overflow: hidden;padding: 0;position: absolute;width: 1px;}#sk-36def0f2-f16e-4cc6-a32d-334e28c3bd95 div.sk-estimator {font-family: monospace;background-color: #f0f8ff;border: 1px dotted black;border-radius: 0.25em;box-sizing: border-box;margin-bottom: 0.5em;}#sk-36def0f2-f16e-4cc6-a32d-334e28c3bd95 div.sk-estimator:hover {background-color: #d4ebff;}#sk-36def0f2-f16e-4cc6-a32d-334e28c3bd95 div.sk-parallel-item::after {content: \"\";width: 100%;border-bottom: 1px solid gray;flex-grow: 1;}#sk-36def0f2-f16e-4cc6-a32d-334e28c3bd95 div.sk-label:hover label.sk-toggleable__label {background-color: #d4ebff;}#sk-36def0f2-f16e-4cc6-a32d-334e28c3bd95 div.sk-serial::before {content: \"\";position: absolute;border-left: 1px solid gray;box-sizing: border-box;top: 2em;bottom: 0;left: 50%;}#sk-36def0f2-f16e-4cc6-a32d-334e28c3bd95 div.sk-serial {display: flex;flex-direction: column;align-items: center;background-color: white;padding-right: 0.2em;padding-left: 0.2em;}#sk-36def0f2-f16e-4cc6-a32d-334e28c3bd95 div.sk-item {z-index: 1;}#sk-36def0f2-f16e-4cc6-a32d-334e28c3bd95 div.sk-parallel {display: flex;align-items: stretch;justify-content: center;background-color: white;}#sk-36def0f2-f16e-4cc6-a32d-334e28c3bd95 div.sk-parallel::before {content: \"\";position: absolute;border-left: 1px solid gray;box-sizing: border-box;top: 2em;bottom: 0;left: 50%;}#sk-36def0f2-f16e-4cc6-a32d-334e28c3bd95 div.sk-parallel-item {display: flex;flex-direction: column;position: relative;background-color: white;}#sk-36def0f2-f16e-4cc6-a32d-334e28c3bd95 div.sk-parallel-item:first-child::after {align-self: flex-end;width: 50%;}#sk-36def0f2-f16e-4cc6-a32d-334e28c3bd95 div.sk-parallel-item:last-child::after {align-self: flex-start;width: 50%;}#sk-36def0f2-f16e-4cc6-a32d-334e28c3bd95 div.sk-parallel-item:only-child::after {width: 0;}#sk-36def0f2-f16e-4cc6-a32d-334e28c3bd95 div.sk-dashed-wrapped {border: 1px dashed gray;margin: 0 0.4em 0.5em 0.4em;box-sizing: border-box;padding-bottom: 0.4em;background-color: white;position: relative;}#sk-36def0f2-f16e-4cc6-a32d-334e28c3bd95 div.sk-label label {font-family: monospace;font-weight: bold;background-color: white;display: inline-block;line-height: 1.2em;}#sk-36def0f2-f16e-4cc6-a32d-334e28c3bd95 div.sk-label-container {position: relative;z-index: 2;text-align: center;}#sk-36def0f2-f16e-4cc6-a32d-334e28c3bd95 div.sk-container {/* jupyter's `normalize.less` sets `[hidden] { display: none; }` but bootstrap.min.css set `[hidden] { display: none !important; }` so we also need the `!important` here to be able to override the default hidden behavior on the sphinx rendered scikit-learn.org. See: https://github.com/scikit-learn/scikit-learn/issues/21755 */display: inline-block !important;position: relative;}#sk-36def0f2-f16e-4cc6-a32d-334e28c3bd95 div.sk-text-repr-fallback {display: none;}</style><div id=\"sk-36def0f2-f16e-4cc6-a32d-334e28c3bd95\" class=\"sk-top-container\"><div class=\"sk-text-repr-fallback\"><pre>ColumnTransformer(transformers=[(&#x27;pipeline-1&#x27;,\n",
              "                                 Pipeline(steps=[(&#x27;simpleimputer&#x27;,\n",
              "                                                  SimpleImputer()),\n",
              "                                                 (&#x27;standardscaler&#x27;,\n",
              "                                                  StandardScaler())]),\n",
              "                                 &lt;sklearn.compose._column_transformer.make_column_selector object at 0x7fd5c2729cd0&gt;),\n",
              "                                (&#x27;pipeline-2&#x27;,\n",
              "                                 Pipeline(steps=[(&#x27;simpleimputer&#x27;,\n",
              "                                                  SimpleImputer(strategy=&#x27;most_frequent&#x27;)),\n",
              "                                                 (&#x27;onehotencoder&#x27;,\n",
              "                                                  OneHotEncoder(handle_unknown=&#x27;ignore&#x27;,\n",
              "                                                                sparse=False))]),\n",
              "                                 &lt;sklearn.compose._column_transformer.make_column_selector object at 0x7fd5c2729be0&gt;)])</pre><b>Please rerun this cell to show the HTML repr or trust the notebook.</b></div><div class=\"sk-container\" hidden><div class=\"sk-item sk-dashed-wrapped\"><div class=\"sk-label-container\"><div class=\"sk-label sk-toggleable\"><input class=\"sk-toggleable__control sk-hidden--visually\" id=\"a0bd8db9-3ad2-486c-a74a-a5a3331db6b3\" type=\"checkbox\" ><label for=\"a0bd8db9-3ad2-486c-a74a-a5a3331db6b3\" class=\"sk-toggleable__label sk-toggleable__label-arrow\">ColumnTransformer</label><div class=\"sk-toggleable__content\"><pre>ColumnTransformer(transformers=[(&#x27;pipeline-1&#x27;,\n",
              "                                 Pipeline(steps=[(&#x27;simpleimputer&#x27;,\n",
              "                                                  SimpleImputer()),\n",
              "                                                 (&#x27;standardscaler&#x27;,\n",
              "                                                  StandardScaler())]),\n",
              "                                 &lt;sklearn.compose._column_transformer.make_column_selector object at 0x7fd5c2729cd0&gt;),\n",
              "                                (&#x27;pipeline-2&#x27;,\n",
              "                                 Pipeline(steps=[(&#x27;simpleimputer&#x27;,\n",
              "                                                  SimpleImputer(strategy=&#x27;most_frequent&#x27;)),\n",
              "                                                 (&#x27;onehotencoder&#x27;,\n",
              "                                                  OneHotEncoder(handle_unknown=&#x27;ignore&#x27;,\n",
              "                                                                sparse=False))]),\n",
              "                                 &lt;sklearn.compose._column_transformer.make_column_selector object at 0x7fd5c2729be0&gt;)])</pre></div></div></div><div class=\"sk-parallel\"><div class=\"sk-parallel-item\"><div class=\"sk-item\"><div class=\"sk-label-container\"><div class=\"sk-label sk-toggleable\"><input class=\"sk-toggleable__control sk-hidden--visually\" id=\"0a393427-34d1-4973-abef-2abab1b4f54f\" type=\"checkbox\" ><label for=\"0a393427-34d1-4973-abef-2abab1b4f54f\" class=\"sk-toggleable__label sk-toggleable__label-arrow\">pipeline-1</label><div class=\"sk-toggleable__content\"><pre>&lt;sklearn.compose._column_transformer.make_column_selector object at 0x7fd5c2729cd0&gt;</pre></div></div></div><div class=\"sk-serial\"><div class=\"sk-item\"><div class=\"sk-serial\"><div class=\"sk-item\"><div class=\"sk-estimator sk-toggleable\"><input class=\"sk-toggleable__control sk-hidden--visually\" id=\"13150725-0ffa-4eb5-a287-e75852dcb3a7\" type=\"checkbox\" ><label for=\"13150725-0ffa-4eb5-a287-e75852dcb3a7\" class=\"sk-toggleable__label sk-toggleable__label-arrow\">SimpleImputer</label><div class=\"sk-toggleable__content\"><pre>SimpleImputer()</pre></div></div></div><div class=\"sk-item\"><div class=\"sk-estimator sk-toggleable\"><input class=\"sk-toggleable__control sk-hidden--visually\" id=\"e3202f1a-992a-4440-83c1-b62ccc265f92\" type=\"checkbox\" ><label for=\"e3202f1a-992a-4440-83c1-b62ccc265f92\" class=\"sk-toggleable__label sk-toggleable__label-arrow\">StandardScaler</label><div class=\"sk-toggleable__content\"><pre>StandardScaler()</pre></div></div></div></div></div></div></div></div><div class=\"sk-parallel-item\"><div class=\"sk-item\"><div class=\"sk-label-container\"><div class=\"sk-label sk-toggleable\"><input class=\"sk-toggleable__control sk-hidden--visually\" id=\"eec372e9-76ff-46b6-b1ab-6309580e511d\" type=\"checkbox\" ><label for=\"eec372e9-76ff-46b6-b1ab-6309580e511d\" class=\"sk-toggleable__label sk-toggleable__label-arrow\">pipeline-2</label><div class=\"sk-toggleable__content\"><pre>&lt;sklearn.compose._column_transformer.make_column_selector object at 0x7fd5c2729be0&gt;</pre></div></div></div><div class=\"sk-serial\"><div class=\"sk-item\"><div class=\"sk-serial\"><div class=\"sk-item\"><div class=\"sk-estimator sk-toggleable\"><input class=\"sk-toggleable__control sk-hidden--visually\" id=\"9f363f2e-63d6-49ac-a18f-e7601c3a3cf3\" type=\"checkbox\" ><label for=\"9f363f2e-63d6-49ac-a18f-e7601c3a3cf3\" class=\"sk-toggleable__label sk-toggleable__label-arrow\">SimpleImputer</label><div class=\"sk-toggleable__content\"><pre>SimpleImputer(strategy=&#x27;most_frequent&#x27;)</pre></div></div></div><div class=\"sk-item\"><div class=\"sk-estimator sk-toggleable\"><input class=\"sk-toggleable__control sk-hidden--visually\" id=\"ebca3a67-fcf2-4e90-8861-c3527e78d3fc\" type=\"checkbox\" ><label for=\"ebca3a67-fcf2-4e90-8861-c3527e78d3fc\" class=\"sk-toggleable__label sk-toggleable__label-arrow\">OneHotEncoder</label><div class=\"sk-toggleable__content\"><pre>OneHotEncoder(handle_unknown=&#x27;ignore&#x27;, sparse=False)</pre></div></div></div></div></div></div></div></div></div></div></div></div>"
            ]
          },
          "metadata": {},
          "execution_count": 42
        }
      ]
    },
    {
      "cell_type": "code",
      "source": [
        "# transform train and test\n",
        "X_train = preprocessor.transform(X_train)\n",
        "X_test = preprocessor.transform(X_test)"
      ],
      "metadata": {
        "id": "N4nKajrrz_uo"
      },
      "execution_count": 43,
      "outputs": []
    },
    {
      "cell_type": "code",
      "source": [
        "# Comprueben los valores faltantes y que los datos se escalen y tengan una codificación one-hot\n",
        "print(np.isnan(X_train).sum().sum(), 'missing values in training data')\n",
        "print(np.isnan(X_test).sum().sum(), 'missing values in testing data')\n",
        "print('All data in X_train_processed are', X_train.dtype)\n",
        "print('All data in X_test_processed are', X_test.dtype)\n",
        "print('shape of data is', X_train.shape)"
      ],
      "metadata": {
        "colab": {
          "base_uri": "https://localhost:8080/"
        },
        "id": "E8hMedJo0CuQ",
        "outputId": "f526a746-ff8d-4a4e-8000-28577fb63c92"
      },
      "execution_count": 44,
      "outputs": [
        {
          "output_type": "stream",
          "name": "stdout",
          "text": [
            "0 missing values in training data\n",
            "0 missing values in testing data\n",
            "All data in X_train_processed are float64\n",
            "All data in X_test_processed are float64\n",
            "shape of data is (6369, 20)\n"
          ]
        }
      ]
    },
    {
      "cell_type": "markdown",
      "source": [
        "Una vez que tenemos listo nuestros datos para procesar.\n",
        "\n",
        "Vamos a decidir el tipo de algoritmo que vamos a utilizar para la predicción de nuestros datos.\n",
        "\n",
        "Probaremos los modelos de clasificación:\n",
        "\n",
        "- Arbol de decisión\n",
        "- KNN\n",
        "- Regresión logística"
      ],
      "metadata": {
        "id": "ep3G9i4-17M3"
      }
    },
    {
      "cell_type": "code",
      "source": [
        "# Arbol de decision - Bosques Aleatorios\n",
        "\n",
        "from sklearn.ensemble import RandomForestClassifier"
      ],
      "metadata": {
        "id": "i_VZ181f48CA"
      },
      "execution_count": 45,
      "outputs": []
    },
    {
      "cell_type": "code",
      "source": [
        "max_depths = range(2,20,1)\n",
        "rf_train_score = []\n",
        "rf_test_score = []\n",
        "\n",
        "for depth in max_depths:\n",
        "  rf = RandomForestClassifier(max_depth = depth, random_state = 42)\n",
        "  rf.fit(X_train, y_train)\n",
        "  rf.predict(X_test)\n",
        "  rf_train_score.append(rf.score(X_train, y_train))\n",
        "  rf_test_score.append(rf.score(X_test, y_test))\n"
      ],
      "metadata": {
        "id": "6ryfTzrA0V0I"
      },
      "execution_count": 46,
      "outputs": []
    },
    {
      "cell_type": "code",
      "source": [
        "plt.plot(max_depths, rf_test_score)\n",
        "plt.xlabel('max_depth')\n",
        "plt.ylabel('rf_test')"
      ],
      "metadata": {
        "id": "ftRJyDi48UwD",
        "outputId": "cfdb4cb0-ca6a-41e4-ca02-d70072bed606",
        "colab": {
          "base_uri": "https://localhost:8080/",
          "height": 298
        }
      },
      "execution_count": 47,
      "outputs": [
        {
          "output_type": "execute_result",
          "data": {
            "text/plain": [
              "Text(0, 0.5, 'rf_test')"
            ]
          },
          "metadata": {},
          "execution_count": 47
        },
        {
          "output_type": "display_data",
          "data": {
            "text/plain": [
              "<Figure size 432x288 with 1 Axes>"
            ],
            "image/png": "[encoded data removed]"
          },
          "metadata": {
            "needs_background": "light"
          }
        }
      ]
    },
    {
      "cell_type": "code",
      "source": [
        "rf = RandomForestClassifier(max_depth = 6, random_state = 42)\n",
        "rf.fit(X_train, y_train)\n",
        "rf.predict(X_test)\n",
        "rf_train_score = rf.score(X_train, y_train)\n",
        "rf_test_score = rf.score(X_test, y_test)\n",
        "\n",
        "print('Train score:',rf_train_score)\n",
        "print('Test score:', rf_test_score)"
      ],
      "metadata": {
        "id": "Ao5_BP9A9i_j",
        "outputId": "12930bf7-f083-4fb7-a709-59ca572f07f1",
        "colab": {
          "base_uri": "https://localhost:8080/"
        }
      },
      "execution_count": 48,
      "outputs": [
        {
          "output_type": "stream",
          "name": "stdout",
          "text": [
            "Train score: 0.7425027476840949\n",
            "Test score: 0.7479981158737635\n"
          ]
        }
      ]
    },
    {
      "cell_type": "code",
      "source": [
        "# KNN Classifier\n",
        "\n",
        "from sklearn.neighbors import KNeighborsClassifier"
      ],
      "metadata": {
        "id": "6c_MVrBj-4VO"
      },
      "execution_count": 49,
      "outputs": []
    },
    {
      "cell_type": "code",
      "source": [
        "n_neighbors = range(2,20,1)\n",
        "knn_train_score = []\n",
        "knn_test_score = []\n",
        "\n",
        "for n in n_neighbors:\n",
        "  knn = KNeighborsClassifier(n_neighbors=n)\n",
        "  knn.fit(X_train, y_train)\n",
        "  knn.predict(X_test)\n",
        "  knn_train_score.append(knn.score(X_train, y_train))\n",
        "  knn_test_score.append(knn.score(X_test, y_test))"
      ],
      "metadata": {
        "id": "5KF9agAt83SE"
      },
      "execution_count": 50,
      "outputs": []
    },
    {
      "cell_type": "code",
      "source": [
        "plt.plot(n_neighbors, knn_test_score)\n",
        "plt.xlabel('n_neighbors')\n",
        "plt.ylabel('knn_test')"
      ],
      "metadata": {
        "colab": {
          "base_uri": "https://localhost:8080/",
          "height": 298
        },
        "id": "268d62wB9p-M",
        "outputId": "1fdd1a56-aecd-4309-a34a-0d9ffb38f77e"
      },
      "execution_count": 51,
      "outputs": [
        {
          "output_type": "execute_result",
          "data": {
            "text/plain": [
              "Text(0, 0.5, 'knn_test')"
            ]
          },
          "metadata": {},
          "execution_count": 51
        },
        {
          "output_type": "display_data",
          "data": {
            "text/plain": [
              "<Figure size 432x288 with 1 Axes>"
            ],
            "image/png": "[encoded data removed]"
          },
          "metadata": {
            "needs_background": "light"
          }
        }
      ]
    },
    {
      "cell_type": "code",
      "source": [
        "knn = KNeighborsClassifier(n_neighbors=17)\n",
        "\n",
        "knn.fit(X_train, y_train)\n",
        "\n",
        "print(knn.score(X_train, y_train))\n",
        "print(knn.score(X_test, y_test))"
      ],
      "metadata": {
        "colab": {
          "base_uri": "https://localhost:8080/"
        },
        "id": "yRE7ivLD8Azq",
        "outputId": "2feae673-fcdc-4bb5-a1c7-1167b843f3c5"
      },
      "execution_count": 52,
      "outputs": [
        {
          "output_type": "stream",
          "name": "stdout",
          "text": [
            "0.7544355471816612\n",
            "0.7352802637776731\n"
          ]
        }
      ]
    },
    {
      "cell_type": "code",
      "source": [
        "#Regresion Logistica\n",
        "\n",
        "from sklearn.linear_model import LogisticRegression"
      ],
      "metadata": {
        "id": "hEhVfVgL-Ffm"
      },
      "execution_count": 53,
      "outputs": []
    },
    {
      "cell_type": "code",
      "source": [
        "logreg = LogisticRegression(C = 0.01)\n",
        "logreg.fit(X_train, y_train)\n",
        "print(logreg.score(X_train,y_train))\n",
        "print(logreg.score(X_test,y_test))"
      ],
      "metadata": {
        "id": "Y3Xs8tNd-oeY",
        "outputId": "2ee559cd-d8ce-44f7-ceea-f871880b4fd3",
        "colab": {
          "base_uri": "https://localhost:8080/"
        }
      },
      "execution_count": 57,
      "outputs": [
        {
          "output_type": "stream",
          "name": "stdout",
          "text": [
            "0.725702622075679\n",
            "0.7376354215732454\n"
          ]
        }
      ]
    },
    {
      "cell_type": "code",
      "source": [
        "# create a list of c values and empty lists for scores\n",
        "c_values = [0.0001, 0.001, 0.01, 0.1, 1, 10, 100, 1000]\n",
        "train_scores = []\n",
        "test_scores = []\n",
        "#iterative over the c values\n",
        "for c in c_values:\n",
        " \n",
        "  # instantiate a model with each value of c and fit it on the data\n",
        "  log_reg = LogisticRegression(C=c, max_iter=1000, solver='liblinear', penalty='l1')\n",
        "  log_reg_pipe = make_pipeline(scaler, log_reg)\n",
        "  log_reg_pipe.fit(X_train, y_train)\n",
        " \n",
        "  # add the training and testing scores to our scores lists\n",
        "  train_scores.append(log_reg_pipe.score(X_train, y_train))\n",
        "  test_scores.append(log_reg_pipe.score(X_test, y_test))\n",
        " \n",
        "#plot the change in accuracy as we change the value of C\n",
        "fig, ax = plt.subplots(1,1)\n",
        "ax.plot(c_values, train_scores, label='Training Accuracy')\n",
        "ax.plot(c_values, test_scores, label='Testing Accuracy')\n",
        "ax.set_xticks(c_values)\n",
        "ax.set_title('Change in accuracy over C values for l1 regularization')\n",
        "ax.legend()\n",
        " \n",
        "#set the x axis to a logarithmic scale to show the values of C in even intervals\n",
        "ax.set_xscale('log')\n",
        "# print a dictionary of values of C and accuracy scores\n",
        "{c:score for c, score in zip(c_values, test_scores)}"
      ],
      "metadata": {
        "id": "2fR-2igsggtv",
        "outputId": "7ef8822e-591d-4b5f-be05-18b18578bd76",
        "colab": {
          "base_uri": "https://localhost:8080/",
          "height": 433
        }
      },
      "execution_count": 55,
      "outputs": [
        {
          "output_type": "execute_result",
          "data": {
            "text/plain": [
              "{0.0001: 0.49034385303815353,\n",
              " 0.001: 0.7286858219500707,\n",
              " 0.01: 0.730098916627414,\n",
              " 0.1: 0.7362223268959021,\n",
              " 1: 0.7357512953367875,\n",
              " 10: 0.7348092322185587,\n",
              " 100: 0.7348092322185587,\n",
              " 1000: 0.7348092322185587}"
            ]
          },
          "metadata": {},
          "execution_count": 55
        },
        {
          "output_type": "display_data",
          "data": {
            "text/plain": [
              "<Figure size 432x288 with 1 Axes>"
            ],
            "image/png": "[encoded data removed]"
          },
          "metadata": {
            "needs_background": "light"
          }
        }
      ]
    },
    {
      "cell_type": "code",
      "source": [
        "# create a list of c values and empty lists for scores\n",
        "c_values = [0.0001, 0.001, 0.01, 0.1, 1, 10, 100, 1000]\n",
        "train_scores = []\n",
        "test_scores = []\n",
        "#iterative over the c values\n",
        "for c in c_values:\n",
        " \n",
        "  # instantiate a model with each value of c and fit it on the data\n",
        "  log_reg = LogisticRegression(C=c, max_iter=1000, solver='liblinear', penalty='l2')\n",
        "  log_reg_pipe = make_pipeline(scaler, log_reg)\n",
        "  log_reg_pipe.fit(X_train, y_train)\n",
        " \n",
        "  # add the training and testing scores to our scores lists\n",
        "  train_scores.append(log_reg_pipe.score(X_train, y_train))\n",
        "  test_scores.append(log_reg_pipe.score(X_test, y_test))\n",
        " \n",
        "#plot the change in accuracy as we change the value of C\n",
        "fig, ax = plt.subplots(1,1)\n",
        "ax.plot(c_values, train_scores, label='Training Accuracy')\n",
        "ax.plot(c_values, test_scores, label='Testing Accuracy')\n",
        "ax.set_xticks(c_values)\n",
        "ax.set_title('Change in accuracy over C values for l1 regularization')\n",
        "ax.legend()\n",
        " \n",
        "#set the x axis to a logarithmic scale to show the values of C in even intervals\n",
        "ax.set_xscale('log')\n",
        "# print a dictionary of values of C and accuracy scores\n",
        "{c:score for c, score in zip(c_values, test_scores)}"
      ],
      "metadata": {
        "id": "64WxcKPchg_A",
        "outputId": "f58c7931-9d2d-45fa-cfb8-ed28e05895fb",
        "colab": {
          "base_uri": "https://localhost:8080/",
          "height": 433
        }
      },
      "execution_count": 59,
      "outputs": [
        {
          "output_type": "execute_result",
          "data": {
            "text/plain": [
              "{0.0001: 0.7268016957136129,\n",
              " 0.001: 0.730098916627414,\n",
              " 0.01: 0.7343382006594442,\n",
              " 0.1: 0.7362223268959021,\n",
              " 1: 0.7348092322185587,\n",
              " 10: 0.7348092322185587,\n",
              " 100: 0.7348092322185587,\n",
              " 1000: 0.7348092322185587}"
            ]
          },
          "metadata": {},
          "execution_count": 59
        },
        {
          "output_type": "display_data",
          "data": {
            "text/plain": [
              "<Figure size 432x288 with 1 Axes>"
            ],
            "image/png": "[encoded data removed]"
          },
          "metadata": {
            "needs_background": "light"
          }
        }
      ]
    },
    {
      "cell_type": "code",
      "source": [
        "logreg = LogisticRegression(C=0.1, max_iter=1000, solver='liblinear', penalty='l1')\n",
        "logreg.fit(X_train, y_train)\n",
        "print(logreg.score(X_train,y_train))\n",
        "print(logreg.score(X_test,y_test))"
      ],
      "metadata": {
        "id": "lWoJ7svNhRu-",
        "outputId": "43c3a112-99d2-4fcc-ffbf-6f9e22b48bea",
        "colab": {
          "base_uri": "https://localhost:8080/"
        }
      },
      "execution_count": 60,
      "outputs": [
        {
          "output_type": "stream",
          "name": "stdout",
          "text": [
            "0.7246035484377453\n",
            "0.7371643900141309\n"
          ]
        }
      ]
    },
    {
      "cell_type": "code",
      "source": [
        "print('Score de modelos de clasificación utilizados:\\n')\n",
        "print('Random Forest test score:', rf_test_score, '\\n')\n",
        "print('KNN test score:', knn.score(X_test, y_test), '\\n')\n",
        "print('Regresion logistica test score: ', logreg.score(X_test,y_test))"
      ],
      "metadata": {
        "id": "1aZM8uhqiEpS",
        "outputId": "f61ea1ab-b1f9-4635-f8db-c8bef123c0ab",
        "colab": {
          "base_uri": "https://localhost:8080/"
        }
      },
      "execution_count": 61,
      "outputs": [
        {
          "output_type": "stream",
          "name": "stdout",
          "text": [
            "Score de modelos de clasificación utilizados:\n",
            "\n",
            "Random Forest test score: 0.7479981158737635 \n",
            "\n",
            "KNN test score: 0.7352802637776731 \n",
            "\n",
            "Regresion logistica test score:  0.7371643900141309\n"
          ]
        }
      ]
    },
    {
      "cell_type": "markdown",
      "source": [
        "Por lo que podemos inferir que nuestro mejor modelo al momento es el Random Forest, sin embargo evaluaremos un poco mas nuestros datos."
      ],
      "metadata": {
        "id": "xvFC8wOriuOH"
      }
    },
    {
      "cell_type": "markdown",
      "source": [
        "Matriz de correlaciones:"
      ],
      "metadata": {
        "id": "xHY5Qdf--te7"
      }
    },
    {
      "cell_type": "code",
      "source": [
        "corr = train.corr()\n",
        "sns.heatmap(corr, cmap = 'Greens', annot = True)"
      ],
      "metadata": {
        "id": "JGBAFk_NjB72",
        "outputId": "b761d0c0-faf6-4146-cee1-b6de1a4f68ec",
        "colab": {
          "base_uri": "https://localhost:8080/",
          "height": 288
        }
      },
      "execution_count": 63,
      "outputs": [
        {
          "output_type": "execute_result",
          "data": {
            "text/plain": [
              "<matplotlib.axes._subplots.AxesSubplot at 0x7fd5bf4f1430>"
            ]
          },
          "metadata": {},
          "execution_count": 63
        },
        {
          "output_type": "display_data",
          "data": {
            "text/plain": [
              "<Figure size 432x288 with 2 Axes>"
            ],
            "image/png": "[encoded data removed]"
          },
          "metadata": {
            "needs_background": "light"
          }
        }
      ]
    },
    {
      "cell_type": "code",
      "source": [
        "#No influye la edad, sin embargo se observa que los que fueron transportados gastaron mucho menos que los que no lo fueron\n",
        "\n",
        "train.groupby(by='Transported').mean()"
      ],
      "metadata": {
        "id": "iQTDsBEfkVQW",
        "outputId": "48ed1888-f1e8-4602-b333-3bcc864b8c62",
        "colab": {
          "base_uri": "https://localhost:8080/",
          "height": 143
        }
      },
      "execution_count": 65,
      "outputs": [
        {
          "output_type": "execute_result",
          "data": {
            "text/plain": [
              "                   Age  total_billed\n",
              "Transported                         \n",
              "False        29.971172   2013.140147\n",
              "True         27.702412    892.130994"
            ],
            "text/html": [
              "\n",
              "  <div id=\"df-53e8a43f-fa06-4d8b-ad2c-7a28094aad47\">\n",
              "    <div class=\"colab-df-container\">\n",
              "      <div>\n",
              "<style scoped>\n",
              "    .dataframe tbody tr th:only-of-type {\n",
              "        vertical-align: middle;\n",
              "    }\n",
              "\n",
              "    .dataframe tbody tr th {\n",
              "        vertical-align: top;\n",
              "    }\n",
              "\n",
              "    .dataframe thead th {\n",
              "        text-align: right;\n",
              "    }\n",
              "</style>\n",
              "<table border=\"1\" class=\"dataframe\">\n",
              "  <thead>\n",
              "    <tr style=\"text-align: right;\">\n",
              "      <th></th>\n",
              "      <th>Age</th>\n",
              "      <th>total_billed</th>\n",
              "    </tr>\n",
              "    <tr>\n",
              "      <th>Transported</th>\n",
              "      <th></th>\n",
              "      <th></th>\n",
              "    </tr>\n",
              "  </thead>\n",
              "  <tbody>\n",
              "    <tr>\n",
              "      <th>False</th>\n",
              "      <td>29.971172</td>\n",
              "      <td>2013.140147</td>\n",
              "    </tr>\n",
              "    <tr>\n",
              "      <th>True</th>\n",
              "      <td>27.702412</td>\n",
              "      <td>892.130994</td>\n",
              "    </tr>\n",
              "  </tbody>\n",
              "</table>\n",
              "</div>\n",
              "      <button class=\"colab-df-convert\" onclick=\"convertToInteractive('df-53e8a43f-fa06-4d8b-ad2c-7a28094aad47')\"\n",
              "              title=\"Convert this dataframe to an interactive table.\"\n",
              "              style=\"display:none;\">\n",
              "        \n",
              "  <svg xmlns=\"http://www.w3.org/2000/svg\" height=\"24px\"viewBox=\"0 0 24 24\"\n",
              "       width=\"24px\">\n",
              "    <path d=\"M0 0h24v24H0V0z\" fill=\"none\"/>\n",
              "    <path d=\"M18.56 5.44l.94 2.06.94-2.06 2.06-.94-2.06-.94-.94-2.06-.94 2.06-2.06.94zm-11 1L8.5 8.5l.94-2.06 2.06-.94-2.06-.94L8.5 2.5l-.94 2.06-2.06.94zm10 10l.94 2.06.94-2.06 2.06-.94-2.06-.94-.94-2.06-.94 2.06-2.06.94z\"/><path d=\"M17.41 7.96l-1.37-1.37c-.4-.4-.92-.59-1.43-.59-.52 0-1.04.2-1.43.59L10.3 9.45l-7.72 7.72c-.78.78-.78 2.05 0 2.83L4 21.41c.39.39.9.59 1.41.59.51 0 1.02-.2 1.41-.59l7.78-7.78 2.81-2.81c.8-.78.8-2.07 0-2.86zM5.41 20L4 18.59l7.72-7.72 1.47 1.35L5.41 20z\"/>\n",
              "  </svg>\n",
              "      </button>\n",
              "      \n",
              "  <style>\n",
              "    .colab-df-container {\n",
              "      display:flex;\n",
              "      flex-wrap:wrap;\n",
              "      gap: 12px;\n",
              "    }\n",
              "\n",
              "    .colab-df-convert {\n",
              "      background-color: #E8F0FE;\n",
              "      border: none;\n",
              "      border-radius: 50%;\n",
              "      cursor: pointer;\n",
              "      display: none;\n",
              "      fill: #1967D2;\n",
              "      height: 32px;\n",
              "      padding: 0 0 0 0;\n",
              "      width: 32px;\n",
              "    }\n",
              "\n",
              "    .colab-df-convert:hover {\n",
              "      background-color: #E2EBFA;\n",
              "      box-shadow: 0px 1px 2px rgba(60, 64, 67, 0.3), 0px 1px 3px 1px rgba(60, 64, 67, 0.15);\n",
              "      fill: #174EA6;\n",
              "    }\n",
              "\n",
              "    [theme=dark] .colab-df-convert {\n",
              "      background-color: #3B4455;\n",
              "      fill: #D2E3FC;\n",
              "    }\n",
              "\n",
              "    [theme=dark] .colab-df-convert:hover {\n",
              "      background-color: #434B5C;\n",
              "      box-shadow: 0px 1px 3px 1px rgba(0, 0, 0, 0.15);\n",
              "      filter: drop-shadow(0px 1px 2px rgba(0, 0, 0, 0.3));\n",
              "      fill: #FFFFFF;\n",
              "    }\n",
              "  </style>\n",
              "\n",
              "      <script>\n",
              "        const buttonEl =\n",
              "          document.querySelector('#df-53e8a43f-fa06-4d8b-ad2c-7a28094aad47 button.colab-df-convert');\n",
              "        buttonEl.style.display =\n",
              "          google.colab.kernel.accessAllowed ? 'block' : 'none';\n",
              "\n",
              "        async function convertToInteractive(key) {\n",
              "          const element = document.querySelector('#df-53e8a43f-fa06-4d8b-ad2c-7a28094aad47');\n",
              "          const dataTable =\n",
              "            await google.colab.kernel.invokeFunction('convertToInteractive',\n",
              "                                                     [key], {});\n",
              "          if (!dataTable) return;\n",
              "\n",
              "          const docLinkHtml = 'Like what you see? Visit the ' +\n",
              "            '<a target=\"_blank\" href=https://colab.research.google.com/notebooks/data_table.ipynb>data table notebook</a>'\n",
              "            + ' to learn more about interactive tables.';\n",
              "          element.innerHTML = '';\n",
              "          dataTable['output_type'] = 'display_data';\n",
              "          await google.colab.output.renderOutput(dataTable, element);\n",
              "          const docLink = document.createElement('div');\n",
              "          docLink.innerHTML = docLinkHtml;\n",
              "          element.appendChild(docLink);\n",
              "        }\n",
              "      </script>\n",
              "    </div>\n",
              "  </div>\n",
              "  "
            ]
          },
          "metadata": {},
          "execution_count": 65
        }
      ]
    },
    {
      "cell_type": "code",
      "source": [
        "#Dado que mis datos, son en su mayoría categoricos y nuestro mejor modelo puntuado fue el RandomForest,\n",
        "#Nos vamos a centrar en este, y vamos potenciarlo para mejorar su predicción."
      ],
      "metadata": {
        "id": "kU8zNqcAlDeq"
      },
      "execution_count": null,
      "outputs": []
    },
    {
      "cell_type": "code",
      "source": [
        "#Visualizamos los parametros utilizados para el Random Forest\n",
        "\n",
        "rf.get_params()"
      ],
      "metadata": {
        "id": "slDxQQkzoZ75",
        "outputId": "e7130bc1-dd91-4044-b0be-6cdede064a4a",
        "colab": {
          "base_uri": "https://localhost:8080/"
        }
      },
      "execution_count": 67,
      "outputs": [
        {
          "output_type": "execute_result",
          "data": {
            "text/plain": [
              "{'bootstrap': True,\n",
              " 'ccp_alpha': 0.0,\n",
              " 'class_weight': None,\n",
              " 'criterion': 'gini',\n",
              " 'max_depth': 6,\n",
              " 'max_features': 'auto',\n",
              " 'max_leaf_nodes': None,\n",
              " 'max_samples': None,\n",
              " 'min_impurity_decrease': 0.0,\n",
              " 'min_samples_leaf': 1,\n",
              " 'min_samples_split': 2,\n",
              " 'min_weight_fraction_leaf': 0.0,\n",
              " 'n_estimators': 100,\n",
              " 'n_jobs': None,\n",
              " 'oob_score': False,\n",
              " 'random_state': 42,\n",
              " 'verbose': 0,\n",
              " 'warm_start': False}"
            ]
          },
          "metadata": {},
          "execution_count": 67
        }
      ]
    },
    {
      "cell_type": "code",
      "source": [
        "#Vamos a ajustar en n_estimators\n",
        "\n",
        "rf_train_score = []\n",
        "rf_test_score = []\n",
        "n_estimators = range(190,220,1)\n",
        "\n",
        "for n in n_estimators:\n",
        "  rf = RandomForestClassifier(max_depth = 6, random_state = 42, n_estimators = n)\n",
        "  rf.fit(X_train, y_train)\n",
        "  rf.predict(X_test)\n",
        "  rf_test_score.append(rf.score(X_test, y_test))\n",
        "\n",
        "plt.plot(n_estimators, rf_test_score)\n",
        "plt.xlabel('n_estimators')\n",
        "plt.ylabel('rf_test')"
      ],
      "metadata": {
        "id": "T8qRYoC0olnz",
        "outputId": "35f0c147-4554-4ce9-fa37-5c8879f03ce2",
        "colab": {
          "base_uri": "https://localhost:8080/",
          "height": 298
        }
      },
      "execution_count": 71,
      "outputs": [
        {
          "output_type": "execute_result",
          "data": {
            "text/plain": [
              "Text(0, 0.5, 'rf_test')"
            ]
          },
          "metadata": {},
          "execution_count": 71
        },
        {
          "output_type": "display_data",
          "data": {
            "text/plain": [
              "<Figure size 432x288 with 1 Axes>"
            ],
            "image/png": "[encoded data removed]"
          },
          "metadata": {
            "needs_background": "light"
          }
        }
      ]
    },
    {
      "cell_type": "code",
      "source": [
        "rf = RandomForestClassifier(max_depth = 6, random_state = 42, n_estimators = 198)\n",
        "rf.fit(X_train, y_train)\n",
        "rf.predict(X_test)\n",
        "rf_train_score = rf.score(X_train, y_train)\n",
        "rf_test_score = rf.score(X_test, y_test)\n",
        "\n",
        "print('Train score:',rf_train_score)\n",
        "print('Test score:', rf_test_score)"
      ],
      "metadata": {
        "id": "YJGdV-CwrhHU",
        "outputId": "83025b7b-94ab-4bd3-ad8d-fb46048a10c8",
        "colab": {
          "base_uri": "https://localhost:8080/"
        }
      },
      "execution_count": 76,
      "outputs": [
        {
          "output_type": "stream",
          "name": "stdout",
          "text": [
            "Train score: 0.7425027476840949\n",
            "Test score: 0.7494112105511069\n"
          ]
        }
      ]
    },
    {
      "cell_type": "code",
      "source": [
        "#Nuestra mejor puntuación de predicción se da en 74% para la predicción de las personas que si seran transportadas"
      ],
      "metadata": {
        "id": "nVguYHUkAkXA"
      },
      "execution_count": null,
      "outputs": []
    }
  ]
}